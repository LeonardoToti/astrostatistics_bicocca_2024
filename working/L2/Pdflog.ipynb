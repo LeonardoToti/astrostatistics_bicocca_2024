{
 "cells": [
  {
   "cell_type": "markdown",
   "id": "14186771",
   "metadata": {},
   "source": [
    "# Pdf of the log\n"
   ]
  },
  {
   "cell_type": "markdown",
   "id": "bc952b52",
   "metadata": {},
   "source": [
    "#### Drawing N random samples from a uniform distribution between 0.1 and 10\n",
    "#### Making an histogram of these samples  "
   ]
  },
  {
   "cell_type": "code",
   "execution_count": 1,
   "id": "d34bc640",
   "metadata": {},
   "outputs": [
    {
     "data": {
      "image/png": "[encoded data removed]",
      "text/plain": [
       "<Figure size 432x288 with 1 Axes>"
      ]
     },
     "metadata": {
      "needs_background": "light"
     },
     "output_type": "display_data"
    }
   ],
   "source": [
    "import numpy as np\n",
    "import matplotlib.pyplot as plt\n",
    "\n",
    "N = 100000\n",
    "x = np.random.uniform(0.1,10, N)\n",
    "\n",
    "plt.hist(x, bins=20, color='turquoise')\n",
    "plt.ylabel('Counts')\n",
    "plt.title('Histogram')\n",
    "plt.show()"
   ]
  },
  {
   "cell_type": "markdown",
   "id": "2c08d1a4",
   "metadata": {},
   "source": [
    "#### Computing the base-10 log of the sampling and making an histogram \n",
    "\n",
    "Naming $ x $ the sampling, and $ y $ the base-10 log of the sampling, the law to transform probability distribution is : \n",
    "$$p(y) = \\left|\\frac{dx}{dy}\\right| p(x) ,$$\n",
    "since $p(x) = \\frac{1}{9.9} $ and $ y = \\log_{10} x $, then \n",
    "$$p(y) = \\frac{1}{9.9} \\ \\ln (10) \\ 10^y  .$$"
   ]
  },
  {
   "cell_type": "code",
   "execution_count": 2,
   "id": "85c80211",
   "metadata": {
    "scrolled": true
   },
   "outputs": [
    {
     "data": {
      "image/png": "[encoded data removed]",
      "text/plain": [
       "<Figure size 432x288 with 1 Axes>"
      ]
     },
     "metadata": {
      "needs_background": "light"
     },
     "output_type": "display_data"
    }
   ],
   "source": [
    "y = np.log10(x)\n",
    "\n",
    "def p_y(y):\n",
    "    return (1/9.9)*np.log(10)*pow(10,y)\n",
    "\n",
    "Y = np.sort(y)\n",
    "\n",
    "plt.hist(y, density=True, bins=20, color='turquoise')\n",
    "plt.plot(Y, p_y(Y), color='orange', label='Theoretical pdf') \n",
    "plt.title('Theoretical pdf over histogram')\n",
    "plt.legend() \n",
    "plt.show()"
   ]
  },
  {
   "cell_type": "markdown",
   "id": "b0fbbf1d",
   "metadata": {},
   "source": [
    "#### Computing the mean of $x$ and the mean of $y$"
   ]
  },
  {
   "cell_type": "code",
   "execution_count": 3,
   "id": "6eba523c",
   "metadata": {},
   "outputs": [
    {
     "name": "stdout",
     "output_type": "stream",
     "text": [
      "Mean of x: 5.062\n",
      "Mean of y: 0.587\n",
      "log_10(mean of x): 0.704\n"
     ]
    }
   ],
   "source": [
    "mean_x = np.mean(x)\n",
    "mean_y = np.mean(y)\n",
    "log_mean_x = np.log10 (mean_x)\n",
    "\n",
    "print(\"Mean of x: %.3f\"  %mean_x)\n",
    "print(\"Mean of y: %.3f\"  %mean_y)\n",
    "print(\"log_10(mean of x): %.3f\"  %log_mean_x)\n"
   ]
  },
  {
   "cell_type": "markdown",
   "id": "7a4dcbce",
   "metadata": {},
   "source": [
    "#### Computing the median of $x$ and the mean of $y$"
   ]
  },
  {
   "cell_type": "code",
   "execution_count": 4,
   "id": "e3eeecc4",
   "metadata": {
    "scrolled": true
   },
   "outputs": [
    {
     "name": "stdout",
     "output_type": "stream",
     "text": [
      "Median of x: 5.073\n",
      "Medeian of y: 0.705\n",
      "log_10(median of x): 0.705\n"
     ]
    }
   ],
   "source": [
    "import statistics\n",
    "\n",
    "median_x = statistics.median(x)\n",
    "median_y = statistics.median(y)\n",
    "log_median_x = np.log10 (median_x)\n",
    "\n",
    "print(\"Median of x: %.3f\"  %median_x)\n",
    "print(\"Medeian of y: %.3f\"  %median_y)\n",
    "print(\"log_10(median of x): %.3f\"  %log_median_x)\n"
   ]
  },
  {
   "cell_type": "code",
   "execution_count": null,
   "id": "92682ed0",
   "metadata": {},
   "outputs": [],
   "source": []
  }
 ],
 "metadata": {
  "kernelspec": {
   "display_name": "Python 3 (ipykernel)",
   "language": "python",
   "name": "python3"
  },
  "language_info": {
   "codemirror_mode": {
    "name": "ipython",
    "version": 3
   },
   "file_extension": ".py",
   "mimetype": "text/x-python",
   "name": "python",
   "nbconvert_exporter": "python",
   "pygments_lexer": "ipython3",
   "version": "3.9.12"
  }
 },
 "nbformat": 4,
 "nbformat_minor": 5
}
