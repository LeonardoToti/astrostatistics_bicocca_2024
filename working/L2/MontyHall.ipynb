{
 "cells": [
  {
   "cell_type": "markdown",
   "id": "c15c27f4",
   "metadata": {},
   "source": [
    "# Monty Hall Problem"
   ]
  },
  {
   "cell_type": "markdown",
   "id": "cae1e5fc",
   "metadata": {},
   "source": [
    "### Simulating three doors: one car, and two goats"
   ]
  },
  {
   "cell_type": "markdown",
   "id": "7ee07955",
   "metadata": {},
   "source": [
    "* 1 = car\n",
    "* 0 = goat"
   ]
  },
  {
   "cell_type": "markdown",
   "id": "dfd30f96",
   "metadata": {},
   "source": [
    "Initializing a vector of Doors with just goats, randomly choosing the index of the door containing a car, and update the vector"
   ]
  },
  {
   "cell_type": "code",
   "execution_count": 1,
   "id": "7d2aa2c7",
   "metadata": {},
   "outputs": [
    {
     "name": "stdout",
     "output_type": "stream",
     "text": [
      "Scheme of the doors: [0. 1. 0.]\n"
     ]
    }
   ],
   "source": [
    "import random\n",
    "import numpy as np\n",
    "\n",
    "Doors=np.zeros(3)\n",
    "\n",
    "index = random.choice([0,1,2])\n",
    "#print(index)\n",
    "Doors[index] = 1\n",
    "    \n",
    "print (\"Scheme of the doors: \" + str(Doors))\n",
    "\n",
    "#del Doors[0] #per eliminare la porta scelta\n",
    "#print (Doors)"
   ]
  },
  {
   "cell_type": "markdown",
   "id": "4ec84f85",
   "metadata": {},
   "source": [
    "#### Kind of players:\n",
    "* Conservative: he never changes the door\n",
    "* Switcher: he always changes the door\n",
    "* Newcomer: he arrives late to the game when the almost all doors have been opened"
   ]
  },
  {
   "cell_type": "code",
   "execution_count": 2,
   "id": "f22eeed9",
   "metadata": {},
   "outputs": [
    {
     "name": "stdout",
     "output_type": "stream",
     "text": [
      "Conservative\n",
      "He chose the 1 door\n",
      "Result: Goat\n"
     ]
    }
   ],
   "source": [
    "#Player one: conservative\n",
    "\n",
    "print(\"Conservative\")\n",
    "Choice_1 = random.choice([0,1,2])\n",
    "print(\"He chose the \" + str(Choice_1 + 1) + \" door\")\n",
    "\n",
    "if Choice_1 == index:\n",
    "    print(\"Result: Win\")\n",
    "else:\n",
    "    print(\"Result: Goat\")"
   ]
  },
  {
   "cell_type": "code",
   "execution_count": 3,
   "id": "cd031f66",
   "metadata": {},
   "outputs": [
    {
     "name": "stdout",
     "output_type": "stream",
     "text": [
      "Switcher\n",
      "He chose the 2 door\n",
      "Result: Goat\n"
     ]
    }
   ],
   "source": [
    "#Player two: switcher\n",
    "\n",
    "print(\"Switcher\")\n",
    "Choice_2_1 = random.choice([0,1,2])\n",
    "print(\"He chose the \" + str(Choice_2_1 + 1) + \" door\")\n",
    "\n",
    "if Choice_2_1 == index:\n",
    "    print(\"Result: Goat\")\n",
    "else:\n",
    "    print(\"Result: Win\")"
   ]
  },
  {
   "cell_type": "code",
   "execution_count": 4,
   "id": "163ddb32",
   "metadata": {},
   "outputs": [
    {
     "name": "stdout",
     "output_type": "stream",
     "text": [
      "Newcomer\n",
      "He chose the 2 door\n",
      "Result: Win\n"
     ]
    }
   ],
   "source": [
    "#Player three: newcomer\n",
    "\n",
    "print(\"Newcomer\")\n",
    "\n",
    "index_fail = 0 #index of a door with a goat\n",
    "for i in range(3):\n",
    "    if Doors[i] == 0:\n",
    "        index_fail = i\n",
    "        break;\n",
    "#print(index_fail)\n",
    "Choice_3 = random.choice([index, index_fail ])\n",
    "print(\"He chose the \" + str(Choice_3 + 1) + \" door\")\n",
    "\n",
    "if Choice_3 == index:\n",
    "    print(\"Result: Win\")\n",
    "else:\n",
    "    print(\"Result: Goat\")"
   ]
  },
  {
   "cell_type": "markdown",
   "id": "8c9b3a13",
   "metadata": {},
   "source": [
    "#### Repeating the game many times"
   ]
  },
  {
   "cell_type": "code",
   "execution_count": 5,
   "id": "e1fb62a0",
   "metadata": {},
   "outputs": [],
   "source": [
    "#function that simulates the game for the conservative player\n",
    "\n",
    "def first_player(num_doors):\n",
    "    index = random.randrange(0, num_doors)\n",
    "    Choice_1 = random.randrange(0, num_doors)\n",
    "    if Choice_1 == index:\n",
    "        return 1\n",
    "    else: \n",
    "        return 0"
   ]
  },
  {
   "cell_type": "code",
   "execution_count": 6,
   "id": "d3709e6a",
   "metadata": {},
   "outputs": [],
   "source": [
    "#function that simulates the game for the switcher player\n",
    "\n",
    "def second_player(num_doors):\n",
    "    index = random.randrange(0, num_doors)\n",
    "    Choice_2 = random.randrange(0, num_doors)\n",
    "    if Choice_2 == index:\n",
    "        return 0\n",
    "    else: \n",
    "        return 1"
   ]
  },
  {
   "cell_type": "code",
   "execution_count": 7,
   "id": "783ce988",
   "metadata": {},
   "outputs": [],
   "source": [
    "#functions that simulates the game for the newcomer player\n",
    "\n",
    "def third_player(num_doors):\n",
    "    #index_fail = 0\n",
    "    Doors=np.zeros(num_doors)\n",
    "    index = random.randrange(0, num_doors)\n",
    "    Doors[index] = 1\n",
    "    for i in range(num_doors):\n",
    "        if Doors[i] == 0:\n",
    "            index_fail = i\n",
    "            break;\n",
    "    Choice_3 = random.choice([index,index_fail])\n",
    "    if Choice_3 == index:\n",
    "        return 1\n",
    "    else: \n",
    "        return 0"
   ]
  },
  {
   "cell_type": "code",
   "execution_count": 8,
   "id": "c259ba06",
   "metadata": {},
   "outputs": [
    {
     "name": "stdout",
     "output_type": "stream",
     "text": [
      "Probability of the conservative player 0.333\n",
      "Probability of the switcher player 0.667\n",
      "Probability of the newcomer player 0.499\n"
     ]
    }
   ],
   "source": [
    "n = 1000000 #number of games\n",
    "\n",
    "results1=np.zeros(n)\n",
    "results2=np.zeros(n)\n",
    "results3=np.zeros(n)\n",
    "\n",
    "for h in range (n):\n",
    "    results1[h] = first_player(3) #doing only three doors\n",
    "    results2[h] = second_player(3)\n",
    "    results3[h] = third_player(3)\n",
    "\n",
    "print(\"Probability of the conservative player \" + str(round((np.sum(results1))/n,3)))\n",
    "print(\"Probability of the switcher player \" + str(round((np.sum(results2))/n,3)))\n",
    "print(\"Probability of the newcomer player \" + str(round((np.sum(results3))/n,3)))"
   ]
  },
  {
   "cell_type": "markdown",
   "id": "c6ac4337",
   "metadata": {},
   "source": [
    "#### It's advantageous to be the switcher player"
   ]
  },
  {
   "cell_type": "markdown",
   "id": "6248b033",
   "metadata": {},
   "source": [
    "### New rules: 100 doors and 98 get opened"
   ]
  },
  {
   "cell_type": "code",
   "execution_count": 19,
   "id": "24bc7632",
   "metadata": {
    "scrolled": true
   },
   "outputs": [
    {
     "name": "stdout",
     "output_type": "stream",
     "text": [
      "Winning probability of the conservative player 0.0101\n",
      "Winning probability of the switcher player 0.99\n",
      "Winning probability of the newcomer player 0.5005\n"
     ]
    }
   ],
   "source": [
    "n = 1000000 #number of game\n",
    "\n",
    "Resu1=np.zeros(n)\n",
    "Resu2=np.zeros(n)\n",
    "Resu3=np.zeros(n)\n",
    "\n",
    "for h in range (n):\n",
    "    Resu1[h] = first_player(100)\n",
    "    Resu2[h] = second_player(100)\n",
    "    Resu3[h] = third_player(100)\n",
    "    \n",
    "print(\"Winning probability of the conservative player \" + str(round((np.sum(Resu1))/n,4)))\n",
    "print(\"Winning probability of the switcher player \" + str(round((np.sum(Resu2))/n,4)))\n",
    "print(\"Winning probability of the newcomer player \" + str(round((np.sum(Resu3))/n,4)))"
   ]
  },
  {
   "cell_type": "markdown",
   "id": "bf3f975c",
   "metadata": {},
   "source": [
    "#### It's still advantageous to be the switcher player"
   ]
  },
  {
   "cell_type": "markdown",
   "id": "b37d5342",
   "metadata": {},
   "source": [
    "### New rules: $N$ doors and $M \\le N-2$ gets opened"
   ]
  },
  {
   "cell_type": "markdown",
   "id": "8f00777b",
   "metadata": {},
   "source": [
    "#### Conservative player: \n",
    "* $N$ doors and $M = N - 2$ gets opened"
   ]
  },
  {
   "cell_type": "code",
   "execution_count": 21,
   "id": "654f95db",
   "metadata": {
    "scrolled": true
   },
   "outputs": [
    {
     "data": {
      "application/vnd.jupyter.widget-view+json": {
       "model_id": "0f123814a237448ab8e5d91115a1ca27",
       "version_major": 2,
       "version_minor": 0
      },
      "text/plain": [
       "  0%|          | 0/98 [00:00<?, ?it/s]"
      ]
     },
     "metadata": {},
     "output_type": "display_data"
    },
    {
     "name": "stdout",
     "output_type": "stream",
     "text": [
      "[0.33258 0.25175 0.19818 0.16722 0.14331 0.12466 0.11167 0.09944 0.08998\n",
      " 0.08298 0.07713 0.0719  0.06616 0.06248 0.06055 0.05518 0.05199 0.04936\n",
      " 0.04778 0.04567 0.04436 0.04181 0.04018 0.0387  0.03746 0.03631 0.03487\n",
      " 0.03207 0.03248 0.03133 0.02927 0.02928 0.02898 0.02748 0.02715 0.02595\n",
      " 0.02637 0.02493 0.02468 0.02382 0.02395 0.02276 0.02263 0.02274 0.02101\n",
      " 0.02033 0.02014 0.01982 0.0207  0.01973 0.01934 0.0185  0.01819 0.01806\n",
      " 0.01695 0.01697 0.01727 0.01695 0.01566 0.0155  0.01602 0.01567 0.01547\n",
      " 0.01544 0.01452 0.01462 0.01493 0.01399 0.01435 0.01473 0.01401 0.01266\n",
      " 0.01315 0.01346 0.01306 0.01264 0.01311 0.01266 0.01257 0.01259 0.01216\n",
      " 0.01204 0.01167 0.01123 0.01112 0.01106 0.01095 0.0107  0.01107 0.01105\n",
      " 0.01046 0.01076 0.01036 0.01016 0.01027 0.01    0.00985 0.00944]\n"
     ]
    },
    {
     "data": {
      "image/png": "[encoded data removed]",
      "text/plain": [
       "<Figure size 432x288 with 1 Axes>"
      ]
     },
     "metadata": {
      "needs_background": "light"
     },
     "output_type": "display_data"
    }
   ],
   "source": [
    "import matplotlib.pyplot as plt\n",
    "from tqdm.notebook import tqdm\n",
    "from matplotlib import colors\n",
    "\n",
    "n = 100000 #number of game\n",
    "N = 100 #maximum number of doors\n",
    "\n",
    "R1 = np.zeros(n)\n",
    "\n",
    "P1 = np.zeros(N-2) #Probability array\n",
    "j=3 #the doors can't be less than three\n",
    "for u in tqdm(range (N-2)):\n",
    "    for h in range (n):\n",
    "        R1[h] = first_player(j)\n",
    "    #print (R1)\n",
    "    #print(np.sum(R1))\n",
    "    j = j + 1\n",
    "    P1[u] = (np.sum(R1))/n\n",
    "#print(P1)\n",
    "\n",
    "plt.plot(np.arange(3,N+1), P1, color='orange')\n",
    "plt.title('Probability evolution in function of the number of doors: conservative player')\n",
    "plt.xlabel('Number of doors')\n",
    "plt.ylabel('Winning probability')\n",
    "plt.show()"
   ]
  },
  {
   "cell_type": "markdown",
   "id": "8342df6c",
   "metadata": {},
   "source": [
    "* $N$ doors and $M \\le N - 2$ gets opened"
   ]
  },
  {
   "cell_type": "code",
   "execution_count": 22,
   "id": "c932ea54",
   "metadata": {
    "scrolled": false
   },
   "outputs": [
    {
     "data": {
      "application/vnd.jupyter.widget-view+json": {
       "model_id": "5c9b5f4882974c2aa94ac4a401c4eb81",
       "version_major": 2,
       "version_minor": 0
      },
      "text/plain": [
       "  0%|          | 0/98 [00:00<?, ?it/s]"
      ]
     },
     "metadata": {},
     "output_type": "display_data"
    }
   ],
   "source": [
    "# no logical changes since he conserves his first choice\n",
    "\n",
    "M1=np.zeros((98,98)) #probability matrix\n",
    "l=0\n",
    "for l in tqdm(range(98)):\n",
    "    for u in range (N-2):\n",
    "        if(u>l-1):\n",
    "            M1[l][u]=P1[u]\n",
    "\n",
    "#print(M1)"
   ]
  },
  {
   "cell_type": "code",
   "execution_count": 23,
   "id": "421afda1",
   "metadata": {
    "scrolled": false
   },
   "outputs": [
    {
     "data": {
      "image/png": "[encoded data removed]",
      "text/plain": [
       "<Figure size 2880x360 with 2 Axes>"
      ]
     },
     "metadata": {
      "needs_background": "light"
     },
     "output_type": "display_data"
    }
   ],
   "source": [
    "extent=[3,N,N-2,1]\n",
    "fig=plt.figure(1, figsize=(40,5), tight_layout=True)\n",
    "plt.imshow(M1, extent=extent, cmap='inferno')\n",
    "plt.xlabel('N', fontsize=16)\n",
    "plt.ylabel('M', fontsize=16)\n",
    "plt.title('Multidimensional histogram of probability: conservative player')\n",
    "plt.colorbar()\n",
    "plt.show()"
   ]
  },
  {
   "cell_type": "markdown",
   "id": "ef6bdb3d",
   "metadata": {},
   "source": [
    "#### Switcher player: \n",
    "* $N$ doors and $M \\le N - 2$ gets opened"
   ]
  },
  {
   "cell_type": "code",
   "execution_count": 24,
   "id": "9880bbc4",
   "metadata": {},
   "outputs": [],
   "source": [
    "def Second(num_doors, n_open):\n",
    "    index = random.randrange(0, num_doors)\n",
    "    Choice_2 = random.randrange(0, num_doors)\n",
    "    if Choice_2 == index:\n",
    "        return 0\n",
    "    else: \n",
    "        index_2 = random.randrange(0, (num_doors-n_open-1))\n",
    "        Choice_2_2 = random.randrange(0, (num_doors-n_open-1)) #the player is making another choice\n",
    "        if Choice_2_2 == index_2:\n",
    "            return 1\n",
    "        else:\n",
    "            return 0\n",
    "        "
   ]
  },
  {
   "cell_type": "code",
   "execution_count": 14,
   "id": "c961e5fc",
   "metadata": {
    "scrolled": true
   },
   "outputs": [
    {
     "data": {
      "application/vnd.jupyter.widget-view+json": {
       "model_id": "4b7079e111884791a1efec2dbc1dbf26",
       "version_major": 2,
       "version_minor": 0
      },
      "text/plain": [
       "  0%|          | 0/98 [00:00<?, ?it/s]"
      ]
     },
     "metadata": {},
     "output_type": "display_data"
    }
   ],
   "source": [
    "n = 10000 #number of game\n",
    "N = 100 #maximum number of doors\n",
    "M = N - 2 #maximum numbers of doors that get opened\n",
    "\n",
    "R2=np.zeros(n)\n",
    "P2 = np.zeros(N-2) #probability array\n",
    "M2=np.zeros((N-2,N-2))\n",
    "j=3\n",
    "s=1\n",
    "\n",
    "for e in tqdm(range(N-2)):\n",
    "    for u in range (N-2):\n",
    "        for h in range (n):\n",
    "            R2[h] = Second(j, s)\n",
    "        #print (R1)\n",
    "        #print(np.sum(R1))\n",
    "        j = j + 1\n",
    "        if(u>s-2): #to avoid case such 6 doors and 7 opened\n",
    "            M2[e][u] = (np.sum(R2))/n\n",
    "    #print(M2[e])\n",
    "    s = s + 1\n",
    "    j= s+2\n",
    "    \n",
    "        \n",
    "#print(M2)\n"
   ]
  },
  {
   "cell_type": "code",
   "execution_count": 25,
   "id": "bfa2b0c0",
   "metadata": {},
   "outputs": [
    {
     "data": {
      "image/png": "[encoded data removed]",
      "text/plain": [
       "<Figure size 2880x360 with 2 Axes>"
      ]
     },
     "metadata": {
      "needs_background": "light"
     },
     "output_type": "display_data"
    }
   ],
   "source": [
    "extent=[3,N,N-2,1]\n",
    "fig=plt.figure(1, figsize=(40,5), tight_layout=True)\n",
    "plt.imshow(M2, extent=extent, cmap='inferno')\n",
    "plt.xlabel('N', fontsize=16)\n",
    "plt.ylabel('M', fontsize=16)\n",
    "plt.title('Multidimensional histogram of probability: switcher player')\n",
    "plt.colorbar()\n",
    "plt.show()"
   ]
  }
 ],
 "metadata": {
  "kernelspec": {
   "display_name": "Python 3 (ipykernel)",
   "language": "python",
   "name": "python3"
  },
  "language_info": {
   "codemirror_mode": {
    "name": "ipython",
    "version": 3
   },
   "file_extension": ".py",
   "mimetype": "text/x-python",
   "name": "python",
   "nbconvert_exporter": "python",
   "pygments_lexer": "ipython3",
   "version": "3.9.12"
  }
 },
 "nbformat": 4,
 "nbformat_minor": 5
}
