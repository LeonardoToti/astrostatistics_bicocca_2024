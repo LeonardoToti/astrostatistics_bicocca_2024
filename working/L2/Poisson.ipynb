{
 "cells": [
  {
   "cell_type": "code",
   "execution_count": 13,
   "id": "631b115f",
   "metadata": {},
   "outputs": [],
   "source": [
    "import numpy as np\n",
    "import scipy.stats\n",
    "import random\n",
    "from scipy.stats import poisson\n",
    "from matplotlib import pyplot as plt"
   ]
  },
  {
   "cell_type": "code",
   "execution_count": 31,
   "id": "8732f92d",
   "metadata": {},
   "outputs": [
    {
     "name": "stdout",
     "output_type": "stream",
     "text": [
      "0.61\n"
     ]
    },
    {
     "data": {
      "image/png": "[encoded data removed]",
      "text/plain": [
       "<Figure size 432x288 with 1 Axes>"
      ]
     },
     "metadata": {
      "needs_background": "light"
     },
     "output_type": "display_data"
    }
   ],
   "source": [
    "Men = 122\n",
    "Corpes = 10\n",
    "Years= 20\n",
    "\n",
    "Prussian = np.zeros(200)\n",
    "\n",
    "\n",
    "for i in range (200):\n",
    "    if i<109:\n",
    "        Prussian[i] = 0\n",
    "    elif i <174:\n",
    "        Prussian[i] = 1\n",
    "    elif i <196:\n",
    "        Prussian[i] = 2\n",
    "    elif i <199:\n",
    "        Prussian[i] = 3\n",
    "    else:\n",
    "        Prussian[i] = 4\n",
    "\n",
    "mu = np.mean(Prussian)\n",
    "print(mu)\n",
    "dist = poisson(mu)\n",
    "x = np.arange(0, 10, 1)\n",
    "\n",
    "plt.plot(x, dist.pmf(x), color='black',  label=r'$\\mu=%i$' % mu)\n",
    "plt.hist(Prussian, bins= [-0.5,0.5,1.5,2.5,3.5], density= True)\n",
    "plt.legend()\n",
    "plt.show()"
   ]
  },
  {
   "cell_type": "code",
   "execution_count": null,
   "id": "3d7ba96c",
   "metadata": {},
   "outputs": [],
   "source": []
  }
 ],
 "metadata": {
  "kernelspec": {
   "display_name": "Python 3 (ipykernel)",
   "language": "python",
   "name": "python3"
  },
  "language_info": {
   "codemirror_mode": {
    "name": "ipython",
    "version": 3
   },
   "file_extension": ".py",
   "mimetype": "text/x-python",
   "name": "python",
   "nbconvert_exporter": "python",
   "pygments_lexer": "ipython3",
   "version": "3.9.12"
  }
 },
 "nbformat": 4,
 "nbformat_minor": 5
}
