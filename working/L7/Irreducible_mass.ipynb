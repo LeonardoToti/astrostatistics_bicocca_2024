{
 "cells": [
  {
   "cell_type": "markdown",
   "id": "1ebfd461",
   "metadata": {},
   "source": [
    "# The irreducible mass of a Black Hole"
   ]
  },
  {
   "cell_type": "markdown",
   "id": "1ea92531",
   "metadata": {},
   "source": [
    "Consider a rotating black hole. In 1969, Roger Penrose discovered that one can extract energy from a rotating black hole:\n",
    "\n",
    "![](https://inspirehep.net/files/268d28446b405e134199d84f67c23792)\n",
    "\n",
    "(figure from [Harada, Kimura 2014](https://ui.adsabs.harvard.edu/abs/2014CQGra..31x3001H/abstract)).\n",
    "\n",
    "A rotating black-hole, namely a Kerr BH, has a region called ergosphere such that infalling particles have negative energy. Penrose imagined a particle that enters that region and decays: half will fall in and half will escape to infinity, carring some energy with it. In a nutshell, we've extracted energy=mass from a black hole! It turns out that one also has to extract angular momentum, not just energy. But angular momentum runs our first, such that a repeated series of Penrose processes leaves behind a non-rotating BH with a remnant mass which is called \"irreducible\". This is a famous result by [Christodoulou 1970](https://journals.aps.org/prl/abstract/10.1103/PhysRevLett.25.1596) and is closely related to the even more famous area law by [Hawking (1971)](https://journals.aps.org/prl/abstract/10.1103/PhysRevLett.26.1344).\n",
    "\n",
    "\n",
    "For a BH of mass $M$ spin $\\chi\\in [0,1]$, the irreducible mass is \n",
    "\\begin{equation}\n",
    "M_{\\rm irr} = M \\sqrt{\\frac{1+\\sqrt{1-\\chi^2}}{2}}\n",
    "\\label{mirrdef}\n",
    "\\end{equation}\n",
    "For convenience, let us define $f= M_{\\rm irr}/M$\n",
    "\n",
    "Suppose we have repeated measurments of $M$ and $\\chi$.\n",
    "\n",
    "Let's assume that\n",
    "\n",
    "- the spin $\\chi$ is uniformly distributed between 0 and 1.\n",
    "- the mass $M$ is normally distributed with mean $\\mu$ and standard deviation $\\sigma$."
   ]
  },
  {
   "cell_type": "code",
   "execution_count": 1,
   "id": "100a5ec5",
   "metadata": {},
   "outputs": [],
   "source": [
    "import numpy as np\n",
    "from scipy import stats, interpolate\n",
    "import scipy.stats\n",
    "from matplotlib import pyplot as plt\n",
    "from tqdm import tqdm\n",
    "from scipy import optimize\n",
    "plt.rcParams['figure.figsize'] = [4, 4]"
   ]
  },
  {
   "cell_type": "markdown",
   "id": "423f6308",
   "metadata": {},
   "source": [
    "#### Let's start generating the data from a Normal distribution  $\\mathcal{N}(\\mu = 1, \\sigma = 0.02)$"
   ]
  },
  {
   "cell_type": "code",
   "execution_count": 2,
   "id": "8547e520",
   "metadata": {
    "scrolled": true
   },
   "outputs": [
    {
     "data": {
      "text/plain": [
       "Text(0, 0.5, '$p(x)$')"
      ]
     },
     "execution_count": 2,
     "metadata": {},
     "output_type": "execute_result"
    },
    {
     "data": {
      "image/png": "[encoded data removed]",
      "text/plain": [
       "<Figure size 288x288 with 1 Axes>"
      ]
     },
     "metadata": {
      "needs_background": "light"
     },
     "output_type": "display_data"
    }
   ],
   "source": [
    "N = 10000 #number of BHs\n",
    "μ = 1\n",
    "σ = 0.02\n",
    "\n",
    "χ = np.random.uniform(0.0, 1.0, N)\n",
    "M = np.random.normal(μ, σ, N)\n",
    "\n",
    "plt.hist(M, bins = 20, density = True, histtype='step', linewidth = 2, color = 'turquoise');\n",
    "x = np.linspace(μ-5*σ, μ+5*σ, N)\n",
    "Mass = scipy.stats.norm.pdf(x, μ, σ)\n",
    "plt.plot(x,Mass,lw=2, color = 'orange')\n",
    "plt.xlabel(\" $M_{BH}$\")\n",
    "plt.ylabel('$p(x)$')"
   ]
  },
  {
   "cell_type": "markdown",
   "id": "5a51cbe7",
   "metadata": {},
   "source": [
    "Now we compute and plot the distribution of $f = M_{irr}/M$"
   ]
  },
  {
   "cell_type": "code",
   "execution_count": 3,
   "id": "0fb79662",
   "metadata": {
    "scrolled": true
   },
   "outputs": [
    {
     "data": {
      "text/plain": [
       "Text(0, 0.5, '$p(x)$')"
      ]
     },
     "execution_count": 3,
     "metadata": {},
     "output_type": "execute_result"
    },
    {
     "data": {
      "image/png": "[encoded data removed]",
      "text/plain": [
       "<Figure size 288x288 with 1 Axes>"
      ]
     },
     "metadata": {
      "needs_background": "light"
     },
     "output_type": "display_data"
    }
   ],
   "source": [
    "def M_irreducible(M,χ):\n",
    "    return M * ((1+(1- χ**2)**0.5)/2)**0.5\n",
    "\n",
    "Mirr = M_irreducible(M,χ)\n",
    "f = Mirr/M\n",
    "\n",
    "plt.hist(Mirr, bins = 20, density=True, histtype='step', linewidth = 2, color = 'green');\n",
    "plt.title(\"Distribution of $M_{irr}$\")\n",
    "plt.xlabel(\" $M_{irr}$\")\n",
    "plt.ylabel('$p(x)$')"
   ]
  },
  {
   "cell_type": "markdown",
   "id": "13ed729f",
   "metadata": {},
   "source": [
    "The law to transform probability distribution is : \n",
    "$$ p(y) = \\left|\\frac{dx}{dy}\\right| p(x) ,$$\n",
    "since $p(x) = 1 $ and $ y = f = \\sqrt{\\frac{1+\\sqrt{1-\\chi^2}}{2}}  $, then\n",
    "\n",
    "$$ \\left|\\frac{dx}{df}\\right| = 2\\sqrt{2}\\frac{\\sqrt{1-x^2}\\sqrt{1+\\sqrt{1-x^2}}}{x} = 2 \\frac{2f^2-1}{\\sqrt{1-f^2}}, $$\n",
    "\n",
    "$$p(y) =   2 \\frac{2f^2-1}{\\sqrt{1-f^2}} .$$\n"
   ]
  },
  {
   "cell_type": "code",
   "execution_count": 4,
   "id": "b67ce483",
   "metadata": {},
   "outputs": [
    {
     "data": {
      "text/plain": [
       "Text(0, 0.5, '$p(x)$')"
      ]
     },
     "execution_count": 4,
     "metadata": {},
     "output_type": "execute_result"
    },
    {
     "data": {
      "image/png": "[encoded data removed]",
      "text/plain": [
       "<Figure size 288x288 with 1 Axes>"
      ]
     },
     "metadata": {
      "needs_background": "light"
     },
     "output_type": "display_data"
    }
   ],
   "source": [
    "plt.hist(f, bins = 20, density=True, histtype='step', linewidth = 2, color = 'green');\n",
    "x_f = np.linspace(1/2**0.5,1,100)[:-1]\n",
    "pdff = 2*(2*x_f**2-1)/(1 - x_f**2)**0.5\n",
    "plt.plot(x_f,pdff,lw=2, color = 'orange');\n",
    "\n",
    "plt.title(\"Distribution of $f = M_{irr}/M$\")\n",
    "plt.xlabel(\" $f$\")\n",
    "plt.ylabel('$p(x)$')"
   ]
  },
  {
   "cell_type": "markdown",
   "id": "6d643a77",
   "metadata": {},
   "source": [
    "## Scott's rule"
   ]
  },
  {
   "cell_type": "markdown",
   "id": "264e8474",
   "metadata": {},
   "source": [
    "Let's plot an histoghram of $M_{irr}$, to choose the bin sizes we refer to the **Scott's rule**, evaluating numerically an estimate for the $\\sigma$ ."
   ]
  },
  {
   "cell_type": "code",
   "execution_count": 5,
   "id": "12c64402",
   "metadata": {},
   "outputs": [
    {
     "data": {
      "text/plain": [
       "Text(0, 0.5, '$p(x)$')"
      ]
     },
     "execution_count": 5,
     "metadata": {},
     "output_type": "execute_result"
    },
    {
     "data": {
      "image/png": "[encoded data removed]",
      "text/plain": [
       "<Figure size 288x288 with 1 Axes>"
      ]
     },
     "metadata": {
      "needs_background": "light"
     },
     "output_type": "display_data"
    }
   ],
   "source": [
    "from astropy.visualization.hist import hist as fancyhist\n",
    "_,_,_ = fancyhist(Mirr, bins=\"scott\", histtype=\"step\",density=True, lw = 2, color = 'green') #scott directly\n",
    "plt.title(\"Distribution of $M_{irr}$\")\n",
    "plt.xlabel(\" $M_{irr}$\")\n",
    "plt.ylabel('$p(x)$')"
   ]
  },
  {
   "cell_type": "markdown",
   "id": "5286d89b",
   "metadata": {},
   "source": [
    "## Plot of the distribution of  $M_{irr}$ using a KDE ( Kernel Density Estimation)."
   ]
  },
  {
   "cell_type": "code",
   "execution_count": 6,
   "id": "d2960fd3",
   "metadata": {
    "scrolled": true
   },
   "outputs": [
    {
     "data": {
      "image/png": "[encoded data removed]",
      "text/plain": [
       "<Figure size 288x288 with 1 Axes>"
      ]
     },
     "metadata": {
      "needs_background": "light"
     },
     "output_type": "display_data"
    }
   ],
   "source": [
    "from sklearn.neighbors import KernelDensity\n",
    "xgrid = np.linspace(Mirr.min(),Mirr.max(),1000)  \n",
    "\n",
    "def kde_sklearn(data, bandwidth,  kernel):\n",
    "    kde_skl = KernelDensity(bandwidth = bandwidth, kernel=kernel)\n",
    "    kde_skl.fit(data[:, np.newaxis])\n",
    "    log_pdf = kde_skl.score_samples(xgrid[:, np.newaxis]) # sklearn returns log(density)\n",
    "\n",
    "    return np.exp(log_pdf)\n",
    "\n",
    "PDF = kde_sklearn(Mirr,bandwidth=0.01, kernel=\"gaussian\") \n",
    "\n",
    "plt.hist(Mirr, bins=\"scott\", density=True, histtype=\"step\", lw = 2, color = 'green') \n",
    "plt.plot(xgrid,PDF, color = 'orange', lw = 2) \n",
    "plt.title(\"Distribution of $M_{irr}$\")\n",
    "plt.xlabel(\" $M_{irr}$\")\n",
    "plt.ylabel('$p(x)$')\n",
    "plt.show()\n",
    "\n"
   ]
  },
  {
   "cell_type": "markdown",
   "id": "1aa8c75c",
   "metadata": {},
   "source": [
    "#### Large bandwidth=0.1 "
   ]
  },
  {
   "cell_type": "code",
   "execution_count": 7,
   "id": "a49fe16f",
   "metadata": {
    "scrolled": true
   },
   "outputs": [
    {
     "data": {
      "image/png": "[encoded data removed]",
      "text/plain": [
       "<Figure size 288x288 with 1 Axes>"
      ]
     },
     "metadata": {
      "needs_background": "light"
     },
     "output_type": "display_data"
    }
   ],
   "source": [
    "PDF2 = kde_sklearn(Mirr,bandwidth=0.1,kernel=\"gaussian\")  \n",
    "plt.hist(Mirr, bins=\"scott\", density=True, histtype=\"step\", lw = 2, color = 'green') \n",
    "plt.plot(xgrid,PDF2, color = 'orange', lw = 2) \n",
    "plt.title(\"Distribution of $M_{irr}$\")\n",
    "plt.xlabel(\" $M_{irr}$\")\n",
    "plt.ylabel('$p(x)$')\n",
    "plt.show()"
   ]
  },
  {
   "cell_type": "markdown",
   "id": "c1d3ceac",
   "metadata": {},
   "source": [
    "That's very different from the dataset"
   ]
  },
  {
   "cell_type": "markdown",
   "id": "1c33a5c8",
   "metadata": {},
   "source": [
    "#### Small bandwidth "
   ]
  },
  {
   "cell_type": "code",
   "execution_count": 8,
   "id": "9844f5c1",
   "metadata": {
    "scrolled": true
   },
   "outputs": [
    {
     "data": {
      "image/png": "[encoded data removed]",
      "text/plain": [
       "<Figure size 288x288 with 1 Axes>"
      ]
     },
     "metadata": {
      "needs_background": "light"
     },
     "output_type": "display_data"
    }
   ],
   "source": [
    "PDF3 = kde_sklearn(Mirr,bandwidth=0.001,kernel=\"gaussian\") \n",
    "plt.hist(Mirr, bins = 'scott', density=True, histtype=\"step\", lw = 2, color = 'green') \n",
    "plt.plot(xgrid,PDF3, color = 'orange', lw = 2) \n",
    "plt.title(\"Distribution of $M_{irr}$\")\n",
    "plt.xlabel(\" $M_{irr}$\")\n",
    "plt.ylabel('$p(x)$')\n",
    "plt.show()"
   ]
  },
  {
   "cell_type": "markdown",
   "id": "5eb724b7",
   "metadata": {},
   "source": [
    "I don't believe that the physical process that determine my dataset gives arise to such \"up and down\" patterns $\\rightarrow $ bandwidth is too small."
   ]
  },
  {
   "cell_type": "markdown",
   "id": "58e0187f",
   "metadata": {},
   "source": [
    "## Compute the KS distance between $M_{irr}$ and f as a function of $\\sigma$ . Discuss the limits at large and small values of $\\sigma$."
   ]
  },
  {
   "cell_type": "code",
   "execution_count": 9,
   "id": "44181d4a",
   "metadata": {
    "scrolled": true
   },
   "outputs": [
    {
     "name": "stdout",
     "output_type": "stream",
     "text": [
      "KstestResult(statistic=0.1491, pvalue=2.499141372220935e-97, statistic_location=0.9999999993274875, statistic_sign=-1)\n",
      "KS test between Mirr and f : 0.149\n"
     ]
    }
   ],
   "source": [
    "print(stats.kstest(Mirr, f))\n",
    "kstest = stats.kstest(Mirr, f).statistic\n",
    "print(\"KS test between Mirr and f : %.3f\" % kstest)"
   ]
  },
  {
   "cell_type": "code",
   "execution_count": 10,
   "id": "2acbb42b",
   "metadata": {},
   "outputs": [
    {
     "name": "stdout",
     "output_type": "stream",
     "text": [
      "KstestResult(statistic=0.5055, pvalue=0.0, statistic_location=0.9737650765658388, statistic_sign=1)\n",
      "KS test between Mirr and M : 0.505\n"
     ]
    }
   ],
   "source": [
    "print(stats.kstest(Mirr, M))\n",
    "kstest = stats.kstest(Mirr, M).statistic\n",
    "print(\"KS test between Mirr and M : %.3f\" % kstest)"
   ]
  },
  {
   "cell_type": "markdown",
   "id": "b20a8ebc",
   "metadata": {},
   "source": [
    "## kstest in function of $\\sigma$"
   ]
  },
  {
   "cell_type": "markdown",
   "id": "f171db61",
   "metadata": {},
   "source": [
    "If we are in the limit $\\sigma \\ll \\mu$, $ M_{irr} $ should be distributed as $f$. In the opposite limit $\\sigma \\gg \\mu$, $M_{irr} $ should be distributed as $M$."
   ]
  },
  {
   "cell_type": "code",
   "execution_count": 11,
   "id": "53d2eb3d",
   "metadata": {},
   "outputs": [
    {
     "data": {
      "image/png": "[encoded data removed]",
      "text/plain": [
       "<Figure size 720x360 with 2 Axes>"
      ]
     },
     "metadata": {
      "needs_background": "light"
     },
     "output_type": "display_data"
    }
   ],
   "source": [
    "χ = np.random.uniform(0.0, 1.0, N)\n",
    "\n",
    "def M_function(μ, σ, N): \n",
    "    return np.random.normal(μ, σ, N)\n",
    "    \n",
    "\n",
    "def M_irreducible(M,χ):\n",
    "    return M * ((1+(1- χ**2)**0.5)/2)**0.5\n",
    "\n",
    "Mirr_low = M_irreducible(M_function(1,0.001,10000),χ)\n",
    "Mirr_high = M_irreducible(M_function(1,1,10000),χ)\n",
    "\n",
    "\n",
    "fig, (ax1, ax2) = plt.subplots(1,2, figsize=(10,5))\n",
    "\n",
    "ax1.hist(Mirr_low, bins = \"scott\", density=True, histtype='step', linewidth = 2, color = 'green');\n",
    "ax1.set_xlabel('$M_{irr}$')\n",
    "ax1.set_ylabel(r'$p(x)$')\n",
    "ax1.set_title('Distribution of $M_{irr}$ at low $\\sigma$')\n",
    "\n",
    "\n",
    "ax2.hist(Mirr_high, bins = \"scott\", density=True, histtype='step', linewidth = 2, color = 'green');\n",
    "ax2.set_xlabel('$M_{irr}$')\n",
    "ax2.set_ylabel(r'$p(x)$')\n",
    "ax2.set_title('Distribution of $M_{irr}$ at high $\\sigma$')\n",
    "\n",
    "fig.tight_layout() \n",
    "plt.show()\n",
    "\n"
   ]
  },
  {
   "cell_type": "markdown",
   "id": "0ec39635",
   "metadata": {},
   "source": [
    "As expected they are distributed as $f$ and as $M$."
   ]
  },
  {
   "cell_type": "markdown",
   "id": "67b1ad4e",
   "metadata": {},
   "source": [
    "#### Let's analyze the evolution of the KS test in function of $\\sigma$"
   ]
  },
  {
   "cell_type": "code",
   "execution_count": 12,
   "id": "ccd4e066",
   "metadata": {},
   "outputs": [],
   "source": [
    "N = 10000 #number of BHs\n",
    "μ = 1\n",
    "σ = np.arange(0.001, 10, 0.01)\n",
    "M = [np.random.normal(μ, sig, N) for sig in σ]\n",
    "χ = np.random.uniform(0.0, 1.0, N)\n",
    "Mirr = M_irreducible(M,χ)\n",
    "f = Mirr/M\n",
    "kstest_Mirr_f = [stats.kstest(a, b).statistic for a, b in zip(Mirr, f)]\n",
    "kstest_Mirr_M = [stats.kstest(a, b).statistic for a, b in zip(Mirr, M)]"
   ]
  },
  {
   "cell_type": "code",
   "execution_count": 22,
   "id": "232a19f7",
   "metadata": {},
   "outputs": [
    {
     "data": {
      "image/png": "[encoded data removed]",
      "text/plain": [
       "<Figure size 288x288 with 1 Axes>"
      ]
     },
     "metadata": {
      "needs_background": "light"
     },
     "output_type": "display_data"
    }
   ],
   "source": [
    "plt.plot(σ, kstest_Mirr_f, color='orange', label='kstest_Mirr_f')\n",
    "plt.plot(σ, kstest_Mirr_M, color='turquoise', label='kstest_Mirr_M')\n",
    "plt.xlabel(\"σ\")\n",
    "plt.ylabel(\"kstest\")\n",
    "plt.legend()\n",
    "plt.xlim(0.0001, 1)\n",
    "plt.show()\n"
   ]
  },
  {
   "cell_type": "code",
   "execution_count": null,
   "id": "7fdc48b5",
   "metadata": {},
   "outputs": [],
   "source": []
  }
 ],
 "metadata": {
  "kernelspec": {
   "display_name": "Python 3 (ipykernel)",
   "language": "python",
   "name": "python3"
  },
  "language_info": {
   "codemirror_mode": {
    "name": "ipython",
    "version": 3
   },
   "file_extension": ".py",
   "mimetype": "text/x-python",
   "name": "python",
   "nbconvert_exporter": "python",
   "pygments_lexer": "ipython3",
   "version": "3.9.12"
  }
 },
 "nbformat": 4,
 "nbformat_minor": 5
}
