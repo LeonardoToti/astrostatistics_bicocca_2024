{
 "cells": [
  {
   "cell_type": "code",
   "execution_count": 1,
   "id": "30a02e6d",
   "metadata": {},
   "outputs": [],
   "source": [
    "import numpy as np\n",
    "from scipy import stats, interpolate\n",
    "import scipy.stats\n",
    "from matplotlib import pyplot as plt\n",
    "from tqdm import tqdm\n",
    "from scipy import optimize\n",
    "plt.rcParams['figure.figsize'] = [4, 4]\n",
    "\n",
    "\n",
    "from scipy.stats import cauchy\n",
    "import emcee\n"
   ]
  },
  {
   "cell_type": "code",
   "execution_count": 10,
   "id": "af9e4ea9",
   "metadata": {
    "scrolled": true
   },
   "outputs": [],
   "source": [
    "x = np.load('../../solutions/transient.npy')\n",
    "time = x[:,0]\n",
    "flux = x[:,1]\n",
    "d_flux = x[:,2]"
   ]
  },
  {
   "cell_type": "code",
   "execution_count": 11,
   "id": "9dd81870",
   "metadata": {
    "scrolled": true
   },
   "outputs": [
    {
     "data": {
      "text/plain": [
       "<ErrorbarContainer object of 3 artists>"
      ]
     },
     "execution_count": 11,
     "metadata": {},
     "output_type": "execute_result"
    },
    {
     "data": {
      "image/png": "[encoded data removed]",
      "text/plain": [
       "<Figure size 432x432 with 1 Axes>"
      ]
     },
     "metadata": {
      "needs_background": "light"
     },
     "output_type": "display_data"
    }
   ],
   "source": [
    "fig = plt.figure(figsize=(6, 6))\n",
    "ax = fig.add_subplot(111)\n",
    "\n",
    "ax.errorbar(time, flux, d_flux, fmt='.k', lw=1, ecolor='gray')\n"
   ]
  },
  {
   "cell_type": "markdown",
   "id": "da94003a",
   "metadata": {},
   "source": [
    "The data are homoscedastic"
   ]
  },
  {
   "cell_type": "code",
   "execution_count": 19,
   "id": "c778515d",
   "metadata": {},
   "outputs": [
    {
     "name": "stdout",
     "output_type": "stream",
     "text": [
      "<generator object <genexpr> at 0x000002058A90F0B0>\n"
     ]
    }
   ],
   "source": [
    "def model(t, b, A, to, alpha):\n",
    "    if t < to:\n",
    "        return b\n",
    "    else: \n",
    "        return b + A*np.exp(-alpha*(t-to))\n",
    "\n",
    "b = [1]*len(time)\n",
    "A = [1]*len(time)\n",
    "to = [1]*len(time)\n",
    "alpha = [1]*len(time)\n",
    "\n",
    "\n",
    "#L_single = np.array([norm.pdf(xgrid,loc=xi,scale=sig) for xi,sig in zip(xi,sigma)])\n",
    "L = np.prod(np.array(np.exp(-(f-model(a, b, c, d, e ))^2/(d_f^2))) for f, a, b, c, d, edf in zip (flux, time, b, A, to, alpha, d_flux))\n",
    "print(L)\n",
    "\n",
    "\n",
    "#likelihood assuming a gaussian flux[i]- model profuttoria ecp(-(f-model)^2/sigma^2)"
   ]
  }
 ],
 "metadata": {
  "kernelspec": {
   "display_name": "pymc_env",
   "language": "python",
   "name": "pymc_env"
  },
  "language_info": {
   "codemirror_mode": {
    "name": "ipython",
    "version": 3
   },
   "file_extension": ".py",
   "mimetype": "text/x-python",
   "name": "python",
   "nbconvert_exporter": "python",
   "pygments_lexer": "ipython3",
   "version": "3.9.12"
  }
 },
 "nbformat": 4,
 "nbformat_minor": 5
}
