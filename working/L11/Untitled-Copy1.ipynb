{
 "cells": [
  {
   "cell_type": "markdown",
   "id": "00e8f266",
   "metadata": {},
   "source": [
    "# The Transient Universe"
   ]
  },
  {
   "cell_type": "code",
   "execution_count": 1,
   "id": "44c1f381",
   "metadata": {},
   "outputs": [],
   "source": [
    "import numpy as np\n",
    "from scipy import stats, interpolate\n",
    "import scipy.stats\n",
    "from matplotlib import pyplot as plt\n",
    "from tqdm import tqdm\n",
    "from scipy import optimize\n",
    "plt.rcParams['figure.figsize'] = [4, 4]\n",
    "\n",
    "\n",
    "from scipy.stats import cauchy\n",
    "import emcee\n"
   ]
  },
  {
   "cell_type": "code",
   "execution_count": 2,
   "id": "af9e4ea9",
   "metadata": {
    "scrolled": true
   },
   "outputs": [],
   "source": [
    "x = np.load('../../solutions/transient.npy')\n",
    "time = x[:,0]\n",
    "flux = x[:,1]\n",
    "d_flux = x[:,2]"
   ]
  },
  {
   "cell_type": "code",
   "execution_count": 3,
   "id": "9dd81870",
   "metadata": {
    "scrolled": true
   },
   "outputs": [
    {
     "data": {
      "text/plain": [
       "<ErrorbarContainer object of 3 artists>"
      ]
     },
     "execution_count": 3,
     "metadata": {},
     "output_type": "execute_result"
    },
    {
     "data": {
      "image/png": "[encoded data removed]",
      "text/plain": [
       "<Figure size 360x360 with 1 Axes>"
      ]
     },
     "metadata": {
      "needs_background": "light"
     },
     "output_type": "display_data"
    }
   ],
   "source": [
    "fig = plt.figure(figsize=(5, 5))\n",
    "ax = fig.add_subplot(111)\n",
    "\n",
    "ax.errorbar(time, flux, d_flux, fmt='.k', lw=1, ecolor='gray')\n"
   ]
  },
  {
   "cell_type": "markdown",
   "id": "da94003a",
   "metadata": {},
   "source": [
    "The data are homoscedastic"
   ]
  },
  {
   "cell_type": "code",
   "execution_count": 4,
   "id": "c778515d",
   "metadata": {},
   "outputs": [],
   "source": [
    "def model(t, x):\n",
    "    b = x[0]\n",
    "    A = x[1]\n",
    "    to = x[2]\n",
    "    alpha = x[3]\n",
    "    if t < to:\n",
    "        return b\n",
    "    else: \n",
    "        return b + A*np.exp(-alpha*(t-to))\n",
    "\n",
    "\n",
    "#likelihood assuming a gaussian flux[i]- model profuttoria exp(-(f-model)^2/sigma^2)"
   ]
  },
  {
   "cell_type": "markdown",
   "id": "b87bb59f",
   "metadata": {},
   "source": [
    "emcee wants function"
   ]
  },
  {
   "cell_type": "code",
   "execution_count": 5,
   "id": "98b347e2",
   "metadata": {},
   "outputs": [],
   "source": [
    "def Likelihood(x, flux, d_flux ):\n",
    "    # Gaussian likelihood \n",
    "    moo = []\n",
    "    for i in range (len(time)):\n",
    "        moo.append(model(time[i], x))\n",
    "    moo = np.array(moo)\n",
    "    return np.prod(np.exp(-(flux-moo)**2 /2/d_flux**2)) #il problema è time che è vettore nella funzione modulo\n",
    "\n",
    "\n",
    "def Prior(x):\n",
    "    p_b = 1.0/50\n",
    "    p_A = 1.0/50\n",
    "    p_to = 1.0/100\n",
    "    p_alpha = 1.0/10 * x[3]\n",
    "    return  p_b * p_A * p_to * p_alpha\n",
    "\n",
    "def myPosterior(x, flux, d_flux):\n",
    "    return Likelihood(x, flux, d_flux) * Prior(x)\n",
    "\n",
    "# emcee wants ln of posterior pdf\n",
    "def myLogPosterior(x, flux, d_flux):\n",
    "    return np.log(myPosterior(x, flux, d_flux))"
   ]
  },
  {
   "cell_type": "code",
   "execution_count": 29,
   "id": "bb3acbf0",
   "metadata": {
    "scrolled": true
   },
   "outputs": [
    {
     "name": "stderr",
     "output_type": "stream",
     "text": [
      "C:\\Users\\LEONARDO\\AppData\\Local\\Temp\\ipykernel_11940\\4141458179.py:22: RuntimeWarning: divide by zero encountered in log\n",
      "  return np.log(myPosterior(x, flux, d_flux))\n"
     ]
    },
    {
     "ename": "KeyboardInterrupt",
     "evalue": "",
     "output_type": "error",
     "traceback": [
      "\u001b[1;31m---------------------------------------------------------------------------\u001b[0m",
      "\u001b[1;31mKeyboardInterrupt\u001b[0m                         Traceback (most recent call last)",
      "Input \u001b[1;32mIn [29]\u001b[0m, in \u001b[0;36m<cell line: 14>\u001b[1;34m()\u001b[0m\n\u001b[0;32m      9\u001b[0m \u001b[38;5;66;03m#starting_guesses = 5 * np.random.random((nwalkers, ndim)) +0\u001b[39;00m\n\u001b[0;32m     10\u001b[0m \u001b[38;5;66;03m#starting_guesses = [20, 30, 67, 1]\u001b[39;00m\n\u001b[0;32m     11\u001b[0m \n\u001b[0;32m     12\u001b[0m \u001b[38;5;66;03m# the function call where all the work happens: \u001b[39;00m\n\u001b[0;32m     13\u001b[0m sampler \u001b[38;5;241m=\u001b[39m emcee\u001b[38;5;241m.\u001b[39mEnsembleSampler(nwalkers, ndim, myLogPosterior, args\u001b[38;5;241m=\u001b[39m[flux, d_flux])\n\u001b[1;32m---> 14\u001b[0m \u001b[43msampler\u001b[49m\u001b[38;5;241;43m.\u001b[39;49m\u001b[43mrun_mcmc\u001b[49m\u001b[43m(\u001b[49m\u001b[43mstarting_guesses\u001b[49m\u001b[43m,\u001b[49m\u001b[43m \u001b[49m\u001b[43mnsteps\u001b[49m\u001b[43m)\u001b[49m\n\u001b[0;32m     16\u001b[0m \u001b[38;5;66;03m# sampler.chain is of shape (nwalkers, nsteps, ndim)\u001b[39;00m\n\u001b[0;32m     17\u001b[0m \u001b[38;5;66;03m# throw-out the burn-in points and reshape:\u001b[39;00m\n\u001b[0;32m     18\u001b[0m emcee_trace  \u001b[38;5;241m=\u001b[39m sampler\u001b[38;5;241m.\u001b[39mchain[:, burn:, :]\u001b[38;5;241m.\u001b[39mreshape(\u001b[38;5;241m-\u001b[39m\u001b[38;5;241m1\u001b[39m, ndim)\n",
      "File \u001b[1;32m~\\anaconda3\\lib\\site-packages\\emcee\\ensemble.py:443\u001b[0m, in \u001b[0;36mEnsembleSampler.run_mcmc\u001b[1;34m(self, initial_state, nsteps, **kwargs)\u001b[0m\n\u001b[0;32m    440\u001b[0m     initial_state \u001b[38;5;241m=\u001b[39m \u001b[38;5;28mself\u001b[39m\u001b[38;5;241m.\u001b[39m_previous_state\n\u001b[0;32m    442\u001b[0m results \u001b[38;5;241m=\u001b[39m \u001b[38;5;28;01mNone\u001b[39;00m\n\u001b[1;32m--> 443\u001b[0m \u001b[38;5;28;01mfor\u001b[39;00m results \u001b[38;5;129;01min\u001b[39;00m \u001b[38;5;28mself\u001b[39m\u001b[38;5;241m.\u001b[39msample(initial_state, iterations\u001b[38;5;241m=\u001b[39mnsteps, \u001b[38;5;241m*\u001b[39m\u001b[38;5;241m*\u001b[39mkwargs):\n\u001b[0;32m    444\u001b[0m     \u001b[38;5;28;01mpass\u001b[39;00m\n\u001b[0;32m    446\u001b[0m \u001b[38;5;66;03m# Store so that the ``initial_state=None`` case will work\u001b[39;00m\n",
      "File \u001b[1;32m~\\anaconda3\\lib\\site-packages\\emcee\\ensemble.py:402\u001b[0m, in \u001b[0;36mEnsembleSampler.sample\u001b[1;34m(self, initial_state, log_prob0, rstate0, blobs0, iterations, tune, skip_initial_state_check, thin_by, thin, store, progress, progress_kwargs)\u001b[0m\n\u001b[0;32m    399\u001b[0m move \u001b[38;5;241m=\u001b[39m \u001b[38;5;28mself\u001b[39m\u001b[38;5;241m.\u001b[39m_random\u001b[38;5;241m.\u001b[39mchoice(\u001b[38;5;28mself\u001b[39m\u001b[38;5;241m.\u001b[39m_moves, p\u001b[38;5;241m=\u001b[39m\u001b[38;5;28mself\u001b[39m\u001b[38;5;241m.\u001b[39m_weights)\n\u001b[0;32m    401\u001b[0m \u001b[38;5;66;03m# Propose\u001b[39;00m\n\u001b[1;32m--> 402\u001b[0m state, accepted \u001b[38;5;241m=\u001b[39m \u001b[43mmove\u001b[49m\u001b[38;5;241;43m.\u001b[39;49m\u001b[43mpropose\u001b[49m\u001b[43m(\u001b[49m\u001b[43mmodel\u001b[49m\u001b[43m,\u001b[49m\u001b[43m \u001b[49m\u001b[43mstate\u001b[49m\u001b[43m)\u001b[49m\n\u001b[0;32m    403\u001b[0m state\u001b[38;5;241m.\u001b[39mrandom_state \u001b[38;5;241m=\u001b[39m \u001b[38;5;28mself\u001b[39m\u001b[38;5;241m.\u001b[39mrandom_state\n\u001b[0;32m    405\u001b[0m \u001b[38;5;28;01mif\u001b[39;00m tune:\n",
      "File \u001b[1;32m~\\anaconda3\\lib\\site-packages\\emcee\\moves\\red_blue.py:90\u001b[0m, in \u001b[0;36mRedBlueMove.propose\u001b[1;34m(self, model, state)\u001b[0m\n\u001b[0;32m     87\u001b[0m c \u001b[38;5;241m=\u001b[39m sets[:split] \u001b[38;5;241m+\u001b[39m sets[split \u001b[38;5;241m+\u001b[39m \u001b[38;5;241m1\u001b[39m :]\n\u001b[0;32m     89\u001b[0m \u001b[38;5;66;03m# Get the move-specific proposal.\u001b[39;00m\n\u001b[1;32m---> 90\u001b[0m q, factors \u001b[38;5;241m=\u001b[39m \u001b[38;5;28;43mself\u001b[39;49m\u001b[38;5;241;43m.\u001b[39;49m\u001b[43mget_proposal\u001b[49m\u001b[43m(\u001b[49m\u001b[43ms\u001b[49m\u001b[43m,\u001b[49m\u001b[43m \u001b[49m\u001b[43mc\u001b[49m\u001b[43m,\u001b[49m\u001b[43m \u001b[49m\u001b[43mmodel\u001b[49m\u001b[38;5;241;43m.\u001b[39;49m\u001b[43mrandom\u001b[49m\u001b[43m)\u001b[49m\n\u001b[0;32m     92\u001b[0m \u001b[38;5;66;03m# Compute the lnprobs of the proposed position.\u001b[39;00m\n\u001b[0;32m     93\u001b[0m new_log_probs, new_blobs \u001b[38;5;241m=\u001b[39m model\u001b[38;5;241m.\u001b[39mcompute_log_prob_fn(q)\n",
      "File \u001b[1;32m~\\anaconda3\\lib\\site-packages\\emcee\\moves\\stretch.py:30\u001b[0m, in \u001b[0;36mStretchMove.get_proposal\u001b[1;34m(self, s, c, random)\u001b[0m\n\u001b[0;32m     28\u001b[0m Ns, Nc \u001b[38;5;241m=\u001b[39m \u001b[38;5;28mlen\u001b[39m(s), \u001b[38;5;28mlen\u001b[39m(c)\n\u001b[0;32m     29\u001b[0m ndim \u001b[38;5;241m=\u001b[39m s\u001b[38;5;241m.\u001b[39mshape[\u001b[38;5;241m1\u001b[39m]\n\u001b[1;32m---> 30\u001b[0m zz \u001b[38;5;241m=\u001b[39m ((\u001b[38;5;28mself\u001b[39m\u001b[38;5;241m.\u001b[39ma \u001b[38;5;241m-\u001b[39m \u001b[38;5;241m1.0\u001b[39m) \u001b[38;5;241m*\u001b[39m \u001b[43mrandom\u001b[49m\u001b[38;5;241;43m.\u001b[39;49m\u001b[43mrand\u001b[49m\u001b[43m(\u001b[49m\u001b[43mNs\u001b[49m\u001b[43m)\u001b[49m \u001b[38;5;241m+\u001b[39m \u001b[38;5;241m1\u001b[39m) \u001b[38;5;241m*\u001b[39m\u001b[38;5;241m*\u001b[39m \u001b[38;5;241m2.0\u001b[39m \u001b[38;5;241m/\u001b[39m \u001b[38;5;28mself\u001b[39m\u001b[38;5;241m.\u001b[39ma\n\u001b[0;32m     31\u001b[0m factors \u001b[38;5;241m=\u001b[39m (ndim \u001b[38;5;241m-\u001b[39m \u001b[38;5;241m1.0\u001b[39m) \u001b[38;5;241m*\u001b[39m np\u001b[38;5;241m.\u001b[39mlog(zz)\n\u001b[0;32m     32\u001b[0m rint \u001b[38;5;241m=\u001b[39m random\u001b[38;5;241m.\u001b[39mrandint(Nc, size\u001b[38;5;241m=\u001b[39m(Ns,))\n",
      "\u001b[1;31mKeyboardInterrupt\u001b[0m: "
     ]
    }
   ],
   "source": [
    "ndim = 4  # number of parameters in the model\n",
    "nwalkers = 24  # number of MCMC walkers\n",
    "burn = 1000  # \"burn-in\" period to let chains stabilize\n",
    "nsteps = 10000  # number of MCMC steps to take **for each walker**\n",
    "\n",
    "# initialize theta \n",
    "np.random.seed(0)\n",
    "starting_guesses = np.random.random((nwalkers, ndim))\n",
    "#starting_guesses = 5 * np.random.random((nwalkers, ndim)) +0\n",
    "#starting_guesses = [20, 30, 67, 1]\n",
    "\n",
    "# the function call where all the work happens: \n",
    "sampler = emcee.EnsembleSampler(nwalkers, ndim, myLogPosterior, args=[flux, d_flux])\n",
    "sampler.run_mcmc(starting_guesses, nsteps)\n",
    " \n",
    "# sampler.chain is of shape (nwalkers, nsteps, ndim)\n",
    "# throw-out the burn-in points and reshape:\n",
    "emcee_trace  = sampler.chain[:, burn:, :].reshape(-1, ndim)\n",
    "\n",
    "print(\"done\")"
   ]
  },
  {
   "cell_type": "code",
   "execution_count": 7,
   "id": "bf96ab9d",
   "metadata": {
    "scrolled": true
   },
   "outputs": [
    {
     "name": "stdout",
     "output_type": "stream",
     "text": [
      "(24, 10000, 4)\n",
      "(216000, 4)\n"
     ]
    }
   ],
   "source": [
    "print(sampler.chain.shape) #original chain structure\n",
    "print(emcee_trace.shape) #burned and flattened chain"
   ]
  },
  {
   "cell_type": "code",
   "execution_count": 8,
   "id": "59ca6148",
   "metadata": {
    "scrolled": true
   },
   "outputs": [
    {
     "name": "stdout",
     "output_type": "stream",
     "text": [
      "[[0.5488135  0.71518937 0.60276338 0.54488318]\n",
      " [0.5488135  0.71518937 0.60276338 0.54488318]\n",
      " [0.5488135  0.71518937 0.60276338 0.54488318]\n",
      " ...\n",
      " [0.13179786 0.7163272  0.28940609 0.18319136]\n",
      " [0.13179786 0.7163272  0.28940609 0.18319136]\n",
      " [0.13179786 0.7163272  0.28940609 0.18319136]]\n"
     ]
    }
   ],
   "source": [
    "print(emcee_trace)"
   ]
  },
  {
   "cell_type": "code",
   "execution_count": 27,
   "id": "7b1a87c8",
   "metadata": {
    "scrolled": true
   },
   "outputs": [
    {
     "name": "stdout",
     "output_type": "stream",
     "text": [
      "[0.5488135  0.5488135  0.5488135  ... 0.13179786 0.13179786 0.13179786]\n",
      "[0.71518937 0.71518937 0.71518937 ... 0.7163272  0.7163272  0.7163272 ]\n",
      "[0.60276338 0.60276338 0.60276338 ... 0.28940609 0.28940609 0.28940609]\n",
      "[0.54488318 0.54488318 0.54488318 ... 0.18319136 0.18319136 0.18319136]\n"
     ]
    }
   ],
   "source": [
    "b = emcee_trace[:,0]\n",
    "A = emcee_trace[:,1]\n",
    "to = emcee_trace[:,2]\n",
    "alpha = emcee_trace[:,3]\n",
    "print(b)\n",
    "print(A)\n",
    "print(to)\n",
    "print(alpha)\n"
   ]
  },
  {
   "cell_type": "markdown",
   "id": "3cd6f42f",
   "metadata": {},
   "source": [
    "# Now take one point every autocorrelation lenght"
   ]
  },
  {
   "cell_type": "code",
   "execution_count": 10,
   "id": "f4c6d669",
   "metadata": {},
   "outputs": [
    {
     "name": "stderr",
     "output_type": "stream",
     "text": [
      "C:\\Users\\LEONARDO\\anaconda3\\lib\\site-packages\\emcee\\autocorr.py:38: RuntimeWarning: invalid value encountered in divide\n",
      "  acf /= acf[0]\n"
     ]
    },
    {
     "name": "stdout",
     "output_type": "stream",
     "text": [
      "[nan nan nan nan]\n"
     ]
    }
   ],
   "source": [
    "# Now take one point every autocorrelation lenght\n",
    "tau = sampler.get_autocorr_time()\n",
    "print(tau)\n",
    "#thin = int(tau+1)"
   ]
  },
  {
   "cell_type": "code",
   "execution_count": 11,
   "id": "f372f4f4",
   "metadata": {},
   "outputs": [
    {
     "ename": "NameError",
     "evalue": "name 'thin' is not defined",
     "output_type": "error",
     "traceback": [
      "\u001b[1;31m---------------------------------------------------------------------------\u001b[0m",
      "\u001b[1;31mNameError\u001b[0m                                 Traceback (most recent call last)",
      "Input \u001b[1;32mIn [11]\u001b[0m, in \u001b[0;36m<cell line: 1>\u001b[1;34m()\u001b[0m\n\u001b[1;32m----> 1\u001b[0m emcee_trace \u001b[38;5;241m=\u001b[39m sampler\u001b[38;5;241m.\u001b[39mget_chain(discard\u001b[38;5;241m=\u001b[39mburn, thin\u001b[38;5;241m=\u001b[39m\u001b[43mthin\u001b[49m, flat\u001b[38;5;241m=\u001b[39m\u001b[38;5;28;01mTrue\u001b[39;00m)\u001b[38;5;241m.\u001b[39mflatten()\n",
      "\u001b[1;31mNameError\u001b[0m: name 'thin' is not defined"
     ]
    }
   ],
   "source": [
    "#emcee_trace = sampler.get_chain(discard=burn, thin=thin, flat=True).flatten()"
   ]
  },
  {
   "cell_type": "code",
   "execution_count": null,
   "id": "bb5673bd",
   "metadata": {},
   "outputs": [],
   "source": [
    "len(emcee_trace)"
   ]
  },
  {
   "cell_type": "code",
   "execution_count": null,
   "id": "a2ce15d0",
   "metadata": {},
   "outputs": [],
   "source": []
  },
  {
   "cell_type": "code",
   "execution_count": null,
   "id": "7598d449",
   "metadata": {},
   "outputs": [],
   "source": []
  },
  {
   "cell_type": "code",
   "execution_count": null,
   "id": "28489165",
   "metadata": {},
   "outputs": [],
   "source": [
    "# plot \n",
    "plt.rcParams.update({'font.size': 22})\n",
    "\n",
    "fig = plt.figure(figsize=(15, 8))\n",
    "#fig.subplots_adjust(left=0.11, right=0.95, \n",
    "                   # wspace=0.35, bottom=0.18)\n",
    "\n",
    "chainE = emcee_trace #[0]\n",
    "M = np.size(chainE)\n",
    "\n",
    "ax1 = fig.add_subplot(121)\n",
    "xgrid = np.linspace(1, M, M)\n",
    "plt.plot(xgrid, chainE)\n",
    "ax1.axis([0, M, np.min(chainE), 1.1*np.max(chainE)])\n",
    "plt.xlabel('number',fontsize=15)\n",
    "plt.ylabel('chain',fontsize=15)\n",
    "\n",
    "# plot running mean: \n",
    "meanC = [np.mean(chainE[:int(N)]) for N in xgrid]\n",
    "ax1.plot(xgrid, meanC, c='red', label='chain mean') \n",
    "ax1.plot(xgrid, 0*xgrid + np.mean(data),\n",
    "         c='yellow',label='data mean')\n",
    "ax1.legend(fontsize=15)\n",
    "\n",
    "ax2 = fig.add_subplot(122)\n",
    "# skip first burn samples\n",
    "Nburn = 1000\n",
    "#Nchain = np.size(chainE[xgrid>burn])\n",
    "Nhist, bins, patches = plt.hist(chainE, \n",
    "                                bins='auto', histtype='stepfilled',density=True)\n",
    "\n",
    "# plot expectations based on central limit theorem\n",
    "binwidth = bins[1] - bins[0]\n",
    "muCLT = np.mean(data)\n",
    "sigCLT = np.std(data)/np.sqrt(Ndata)\n",
    "muGrid = np.linspace(0.7, 1.3, 500)\n",
    "gauss = stats.norm(muCLT, sigCLT).pdf(muGrid) \n",
    "ax2.plot(muGrid, gauss, c='red') \n",
    "\n",
    "ax2.set_ylabel('p(chain)',fontsize=15)\n",
    "ax2.set_xlabel('chain values',fontsize=15)\n",
    "#ax2.set_xlim(0.7, 1.3)\n",
    "#ax2.set_ylim(0, 1.2*np.max(gauss))\n",
    "ax2.set_title(r'Chain from emcee',fontsize=15)"
   ]
  }
 ],
 "metadata": {
  "kernelspec": {
   "display_name": "pymc_env",
   "language": "python",
   "name": "pymc_env"
  },
  "language_info": {
   "codemirror_mode": {
    "name": "ipython",
    "version": 3
   },
   "file_extension": ".py",
   "mimetype": "text/x-python",
   "name": "python",
   "nbconvert_exporter": "python",
   "pygments_lexer": "ipython3",
   "version": "3.9.12"
  }
 },
 "nbformat": 4,
 "nbformat_minor": 5
}
