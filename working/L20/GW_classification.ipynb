{
 "cells": [
  {
   "cell_type": "markdown",
   "id": "4e6cce74",
   "metadata": {},
   "source": [
    "# Gravitational waves detectability "
   ]
  },
  {
   "cell_type": "markdown",
   "id": "cf116b90",
   "metadata": {},
   "source": [
    "Even thou there is a huge number of gravitational waves sources, not all of them will be detected.\n",
    "LIGO and VIRGO interferometers can detect gws in a range between 10-1000 Hz, in particular mergers between stellar mass black holes and neutron stars. \n",
    "The detectability can be influenced by the inclination and others parameters, modifying the **Signal-to-Noise ratio (SNR)** that we measure."
   ]
  },
  {
   "cell_type": "code",
   "execution_count": 1,
   "id": "ca124db2",
   "metadata": {},
   "outputs": [],
   "source": [
    "import numpy as np\n",
    "import pylab as plt\n",
    "from matplotlib import pyplot as plt\n",
    "import h5py \n",
    "import pandas as pd\n",
    "import seaborn as sns"
   ]
  },
  {
   "cell_type": "code",
   "execution_count": 2,
   "id": "c5949bdf",
   "metadata": {},
   "outputs": [],
   "source": [
    "file = h5py.File(\"sample_2e7_design_precessing_higherordermodes_3detectors.h5\",'r+')  "
   ]
  },
  {
   "cell_type": "markdown",
   "id": "5f859c96",
   "metadata": {},
   "source": [
    "The dataset contains simulated gravitational-wave signals from merging black holes. The threshold for the snr values, in LIGO experiment, is set to snr = 12. The resulting 0 - 1 labels are reported in the det attribute in the dataset."
   ]
  },
  {
   "cell_type": "code",
   "execution_count": 29,
   "id": "fd909d2e",
   "metadata": {},
   "outputs": [
    {
     "name": "stdout",
     "output_type": "stream",
     "text": [
      "<HDF5 file \"sample_2e7_design_precessing_higherordermodes_3detectors.h5\" (mode r+)>\n"
     ]
    },
    {
     "data": {
      "text/plain": [
       "['chi1x',\n",
       " 'chi1y',\n",
       " 'chi1z',\n",
       " 'chi2x',\n",
       " 'chi2y',\n",
       " 'chi2z',\n",
       " 'dec',\n",
       " 'det',\n",
       " 'iota',\n",
       " 'mtot',\n",
       " 'psi',\n",
       " 'q',\n",
       " 'ra',\n",
       " 'snr',\n",
       " 'z']"
      ]
     },
     "execution_count": 29,
     "metadata": {},
     "output_type": "execute_result"
    }
   ],
   "source": [
    "print(file)\n",
    "list(file.keys())"
   ]
  },
  {
   "cell_type": "code",
   "execution_count": 30,
   "id": "e268a9cb",
   "metadata": {
    "scrolled": true
   },
   "outputs": [
    {
     "data": {
      "text/html": [
       "<div>\n",
       "<style scoped>\n",
       "    .dataframe tbody tr th:only-of-type {\n",
       "        vertical-align: middle;\n",
       "    }\n",
       "\n",
       "    .dataframe tbody tr th {\n",
       "        vertical-align: top;\n",
       "    }\n",
       "\n",
       "    .dataframe thead th {\n",
       "        text-align: right;\n",
       "    }\n",
       "</style>\n",
       "<table border=\"1\" class=\"dataframe\">\n",
       "  <thead>\n",
       "    <tr style=\"text-align: right;\">\n",
       "      <th></th>\n",
       "      <th>chi1x</th>\n",
       "      <th>chi1y</th>\n",
       "      <th>chi1z</th>\n",
       "      <th>chi2x</th>\n",
       "      <th>chi2y</th>\n",
       "      <th>chi2z</th>\n",
       "      <th>dec</th>\n",
       "      <th>det</th>\n",
       "      <th>iota</th>\n",
       "      <th>mtot</th>\n",
       "      <th>psi</th>\n",
       "      <th>q</th>\n",
       "      <th>ra</th>\n",
       "      <th>snr</th>\n",
       "      <th>z</th>\n",
       "    </tr>\n",
       "  </thead>\n",
       "  <tbody>\n",
       "    <tr>\n",
       "      <th>0</th>\n",
       "      <td>-0.307201</td>\n",
       "      <td>0.276165</td>\n",
       "      <td>-0.430760</td>\n",
       "      <td>-0.161114</td>\n",
       "      <td>-0.092334</td>\n",
       "      <td>-0.414647</td>\n",
       "      <td>-0.329671</td>\n",
       "      <td>0.0</td>\n",
       "      <td>1.809310</td>\n",
       "      <td>906.803562</td>\n",
       "      <td>1.286031</td>\n",
       "      <td>0.624780</td>\n",
       "      <td>-3.116784</td>\n",
       "      <td>0.822509</td>\n",
       "      <td>2.139659</td>\n",
       "    </tr>\n",
       "    <tr>\n",
       "      <th>1</th>\n",
       "      <td>-0.734712</td>\n",
       "      <td>-0.498493</td>\n",
       "      <td>-0.298162</td>\n",
       "      <td>0.057532</td>\n",
       "      <td>-0.844992</td>\n",
       "      <td>0.014708</td>\n",
       "      <td>0.526740</td>\n",
       "      <td>0.0</td>\n",
       "      <td>0.820820</td>\n",
       "      <td>59.102112</td>\n",
       "      <td>0.934308</td>\n",
       "      <td>0.986650</td>\n",
       "      <td>1.360291</td>\n",
       "      <td>1.093237</td>\n",
       "      <td>2.438707</td>\n",
       "    </tr>\n",
       "    <tr>\n",
       "      <th>2</th>\n",
       "      <td>-0.057831</td>\n",
       "      <td>-0.703796</td>\n",
       "      <td>-0.354512</td>\n",
       "      <td>-0.215538</td>\n",
       "      <td>0.016323</td>\n",
       "      <td>0.130543</td>\n",
       "      <td>0.315799</td>\n",
       "      <td>0.0</td>\n",
       "      <td>2.008206</td>\n",
       "      <td>44.602750</td>\n",
       "      <td>1.535520</td>\n",
       "      <td>0.286199</td>\n",
       "      <td>0.079973</td>\n",
       "      <td>1.305398</td>\n",
       "      <td>1.869461</td>\n",
       "    </tr>\n",
       "    <tr>\n",
       "      <th>3</th>\n",
       "      <td>0.015260</td>\n",
       "      <td>-0.202467</td>\n",
       "      <td>-0.492768</td>\n",
       "      <td>-0.237033</td>\n",
       "      <td>-0.365363</td>\n",
       "      <td>-0.876192</td>\n",
       "      <td>0.432105</td>\n",
       "      <td>0.0</td>\n",
       "      <td>2.018398</td>\n",
       "      <td>534.378032</td>\n",
       "      <td>3.064086</td>\n",
       "      <td>0.538882</td>\n",
       "      <td>-1.780558</td>\n",
       "      <td>9.112974</td>\n",
       "      <td>0.428061</td>\n",
       "    </tr>\n",
       "    <tr>\n",
       "      <th>4</th>\n",
       "      <td>-0.016731</td>\n",
       "      <td>0.007848</td>\n",
       "      <td>0.005007</td>\n",
       "      <td>0.147519</td>\n",
       "      <td>0.231879</td>\n",
       "      <td>0.086716</td>\n",
       "      <td>-0.458711</td>\n",
       "      <td>1.0</td>\n",
       "      <td>2.037363</td>\n",
       "      <td>573.821705</td>\n",
       "      <td>0.752211</td>\n",
       "      <td>0.846310</td>\n",
       "      <td>2.789289</td>\n",
       "      <td>17.525534</td>\n",
       "      <td>0.772609</td>\n",
       "    </tr>\n",
       "    <tr>\n",
       "      <th>...</th>\n",
       "      <td>...</td>\n",
       "      <td>...</td>\n",
       "      <td>...</td>\n",
       "      <td>...</td>\n",
       "      <td>...</td>\n",
       "      <td>...</td>\n",
       "      <td>...</td>\n",
       "      <td>...</td>\n",
       "      <td>...</td>\n",
       "      <td>...</td>\n",
       "      <td>...</td>\n",
       "      <td>...</td>\n",
       "      <td>...</td>\n",
       "      <td>...</td>\n",
       "      <td>...</td>\n",
       "    </tr>\n",
       "    <tr>\n",
       "      <th>995</th>\n",
       "      <td>0.576429</td>\n",
       "      <td>-0.645197</td>\n",
       "      <td>0.106358</td>\n",
       "      <td>0.779329</td>\n",
       "      <td>0.480224</td>\n",
       "      <td>0.302788</td>\n",
       "      <td>-0.164741</td>\n",
       "      <td>0.0</td>\n",
       "      <td>1.784171</td>\n",
       "      <td>905.125763</td>\n",
       "      <td>2.367827</td>\n",
       "      <td>0.466528</td>\n",
       "      <td>-0.034750</td>\n",
       "      <td>0.993533</td>\n",
       "      <td>3.260640</td>\n",
       "    </tr>\n",
       "    <tr>\n",
       "      <th>996</th>\n",
       "      <td>-0.134131</td>\n",
       "      <td>0.205700</td>\n",
       "      <td>-0.107687</td>\n",
       "      <td>-0.046215</td>\n",
       "      <td>0.361217</td>\n",
       "      <td>-0.813627</td>\n",
       "      <td>-1.245679</td>\n",
       "      <td>0.0</td>\n",
       "      <td>2.560637</td>\n",
       "      <td>264.862843</td>\n",
       "      <td>1.422802</td>\n",
       "      <td>0.642199</td>\n",
       "      <td>2.816555</td>\n",
       "      <td>3.599715</td>\n",
       "      <td>3.244858</td>\n",
       "    </tr>\n",
       "    <tr>\n",
       "      <th>997</th>\n",
       "      <td>0.216536</td>\n",
       "      <td>-0.100850</td>\n",
       "      <td>0.299994</td>\n",
       "      <td>0.088451</td>\n",
       "      <td>0.136617</td>\n",
       "      <td>-0.121935</td>\n",
       "      <td>1.036102</td>\n",
       "      <td>1.0</td>\n",
       "      <td>0.415292</td>\n",
       "      <td>408.083801</td>\n",
       "      <td>3.102616</td>\n",
       "      <td>0.756706</td>\n",
       "      <td>-1.027694</td>\n",
       "      <td>20.986058</td>\n",
       "      <td>1.004410</td>\n",
       "    </tr>\n",
       "    <tr>\n",
       "      <th>998</th>\n",
       "      <td>0.274411</td>\n",
       "      <td>-0.156249</td>\n",
       "      <td>-0.064642</td>\n",
       "      <td>0.302982</td>\n",
       "      <td>0.366175</td>\n",
       "      <td>0.325817</td>\n",
       "      <td>0.919502</td>\n",
       "      <td>0.0</td>\n",
       "      <td>2.010860</td>\n",
       "      <td>588.336562</td>\n",
       "      <td>3.114282</td>\n",
       "      <td>0.692634</td>\n",
       "      <td>-2.490513</td>\n",
       "      <td>2.113289</td>\n",
       "      <td>2.580256</td>\n",
       "    </tr>\n",
       "    <tr>\n",
       "      <th>999</th>\n",
       "      <td>-0.072194</td>\n",
       "      <td>0.105715</td>\n",
       "      <td>-0.220071</td>\n",
       "      <td>-0.314661</td>\n",
       "      <td>0.168661</td>\n",
       "      <td>0.571471</td>\n",
       "      <td>-0.766385</td>\n",
       "      <td>0.0</td>\n",
       "      <td>1.424152</td>\n",
       "      <td>938.453066</td>\n",
       "      <td>1.771673</td>\n",
       "      <td>0.104342</td>\n",
       "      <td>-1.470740</td>\n",
       "      <td>0.178273</td>\n",
       "      <td>3.956172</td>\n",
       "    </tr>\n",
       "  </tbody>\n",
       "</table>\n",
       "<p>1000 rows × 15 columns</p>\n",
       "</div>"
      ],
      "text/plain": [
       "        chi1x     chi1y     chi1z     chi2x     chi2y     chi2z       dec  \\\n",
       "0   -0.307201  0.276165 -0.430760 -0.161114 -0.092334 -0.414647 -0.329671   \n",
       "1   -0.734712 -0.498493 -0.298162  0.057532 -0.844992  0.014708  0.526740   \n",
       "2   -0.057831 -0.703796 -0.354512 -0.215538  0.016323  0.130543  0.315799   \n",
       "3    0.015260 -0.202467 -0.492768 -0.237033 -0.365363 -0.876192  0.432105   \n",
       "4   -0.016731  0.007848  0.005007  0.147519  0.231879  0.086716 -0.458711   \n",
       "..        ...       ...       ...       ...       ...       ...       ...   \n",
       "995  0.576429 -0.645197  0.106358  0.779329  0.480224  0.302788 -0.164741   \n",
       "996 -0.134131  0.205700 -0.107687 -0.046215  0.361217 -0.813627 -1.245679   \n",
       "997  0.216536 -0.100850  0.299994  0.088451  0.136617 -0.121935  1.036102   \n",
       "998  0.274411 -0.156249 -0.064642  0.302982  0.366175  0.325817  0.919502   \n",
       "999 -0.072194  0.105715 -0.220071 -0.314661  0.168661  0.571471 -0.766385   \n",
       "\n",
       "     det      iota        mtot       psi         q        ra        snr  \\\n",
       "0    0.0  1.809310  906.803562  1.286031  0.624780 -3.116784   0.822509   \n",
       "1    0.0  0.820820   59.102112  0.934308  0.986650  1.360291   1.093237   \n",
       "2    0.0  2.008206   44.602750  1.535520  0.286199  0.079973   1.305398   \n",
       "3    0.0  2.018398  534.378032  3.064086  0.538882 -1.780558   9.112974   \n",
       "4    1.0  2.037363  573.821705  0.752211  0.846310  2.789289  17.525534   \n",
       "..   ...       ...         ...       ...       ...       ...        ...   \n",
       "995  0.0  1.784171  905.125763  2.367827  0.466528 -0.034750   0.993533   \n",
       "996  0.0  2.560637  264.862843  1.422802  0.642199  2.816555   3.599715   \n",
       "997  1.0  0.415292  408.083801  3.102616  0.756706 -1.027694  20.986058   \n",
       "998  0.0  2.010860  588.336562  3.114282  0.692634 -2.490513   2.113289   \n",
       "999  0.0  1.424152  938.453066  1.771673  0.104342 -1.470740   0.178273   \n",
       "\n",
       "            z  \n",
       "0    2.139659  \n",
       "1    2.438707  \n",
       "2    1.869461  \n",
       "3    0.428061  \n",
       "4    0.772609  \n",
       "..        ...  \n",
       "995  3.260640  \n",
       "996  3.244858  \n",
       "997  1.004410  \n",
       "998  2.580256  \n",
       "999  3.956172  \n",
       "\n",
       "[1000 rows x 15 columns]"
      ]
     },
     "execution_count": 30,
     "metadata": {},
     "output_type": "execute_result"
    }
   ],
   "source": [
    "# Let's work with less data\n",
    "data= []\n",
    "\n",
    "for idx, name in enumerate(list(file.keys())):\n",
    "    data.append(file[name][0:1000])\n",
    "\n",
    "data = pd.DataFrame(np.transpose(data))\n",
    "data.columns = list(file.keys())\n",
    "data\n"
   ]
  },
  {
   "cell_type": "markdown",
   "id": "25f911b6",
   "metadata": {},
   "source": [
    "We will perform the analysis with two labels: first det (0,1) and then using snr(><12)"
   ]
  },
  {
   "cell_type": "code",
   "execution_count": 31,
   "id": "d68ca5de",
   "metadata": {},
   "outputs": [],
   "source": [
    "labels = ['chi1x', 'chi1y', 'chi1z', 'chi2x', 'chi2y', 'chi2z', 'dec','iota', 'mtot', 'psi', 'q', 'ra', 'z']\n",
    "\n",
    "X = np.array((data[labels]))\n",
    "det = np.array((data['det']))\n",
    "snr = np.array((data['snr']))\n"
   ]
  },
  {
   "cell_type": "markdown",
   "id": "3b033037",
   "metadata": {},
   "source": [
    "Our goal is to train a classifier able to separate the detectable gw signals from the non detectable ones."
   ]
  },
  {
   "cell_type": "code",
   "execution_count": null,
   "id": "23eb31d4",
   "metadata": {},
   "outputs": [],
   "source": []
  },
  {
   "cell_type": "markdown",
   "id": "a95cbf60",
   "metadata": {},
   "source": [
    "## Dimensionality reduction"
   ]
  },
  {
   "cell_type": "markdown",
   "id": "78790a0b",
   "metadata": {},
   "source": [
    "### 1. PCA"
   ]
  },
  {
   "cell_type": "markdown",
   "id": "966519cd",
   "metadata": {},
   "source": [
    "Now, before training our classifier, we perform a dimensionality reduction on the data, so see if a lower dimension can improve the classification.\n",
    "\n",
    "The usual machine-learning approach is to standardize the data such that each dimension has mean=0 and variance=1. We follow this approach using sklearn StandardScaler."
   ]
  },
  {
   "cell_type": "code",
   "execution_count": 32,
   "id": "cb44c807",
   "metadata": {},
   "outputs": [],
   "source": [
    "from sklearn.preprocessing import StandardScaler\n",
    "from sklearn.decomposition import PCA\n",
    "\n",
    "scaler = StandardScaler()\n",
    "X_scaled = scaler.fit_transform(X)\n",
    "\n",
    "pca = PCA()\n",
    "pca.fit(X_scaled)\n",
    "X_reduced = pca.fit_transform(X_scaled)"
   ]
  },
  {
   "cell_type": "code",
   "execution_count": 33,
   "id": "fdc9a730",
   "metadata": {
    "scrolled": true
   },
   "outputs": [
    {
     "name": "stdout",
     "output_type": "stream",
     "text": [
      "[0.09023658 0.08827026 0.08675158 0.08223845 0.08105495 0.07777018\n",
      " 0.07701919 0.07562953 0.07346956 0.07025562 0.06930513 0.06638024\n",
      " 0.06161873]\n"
     ]
    },
    {
     "data": {
      "image/png": "[encoded data removed]",
      "text/plain": [
       "<Figure size 720x216 with 2 Axes>"
      ]
     },
     "metadata": {
      "needs_background": "light"
     },
     "output_type": "display_data"
    }
   ],
   "source": [
    "evals = pca.explained_variance_ratio_\n",
    "\n",
    "print(evals)\n",
    "n_components = 13\n",
    "fig = plt.figure(figsize=(10, 3))\n",
    "\n",
    "\n",
    "ax = fig.add_subplot(121)\n",
    "ax.plot(np.arange(n_components)+1, evals)\n",
    "ax.scatter(np.arange(n_components)+1, evals)\n",
    "ax.set_xlabel(\"eigenvalue\")\n",
    "ax.set_ylabel(\"explained variance ratio\")\n",
    "\n",
    "ax = fig.add_subplot(122)\n",
    "ax.plot(np.arange(n_components)+1, evals.cumsum())\n",
    "ax.scatter(np.arange(n_components)+1, evals.cumsum())\n",
    "ax.set_xlabel(\"eigenvalue number\")\n",
    "ax.set_ylabel(\"cumulative explained variance ratio\")\n",
    "\n",
    "plt.suptitle('Scree plots')\n",
    "\n",
    "plt.show()"
   ]
  },
  {
   "cell_type": "code",
   "execution_count": 34,
   "id": "9b2a8a2f",
   "metadata": {},
   "outputs": [
    {
     "name": "stdout",
     "output_type": "stream",
     "text": [
      "[0.09023658 0.17850684 0.26525842 0.34749686 0.42855181 0.50632199\n",
      " 0.58334118 0.65897072 0.73244028 0.8026959  0.87200103 0.93838127\n",
      " 1.        ]\n"
     ]
    }
   ],
   "source": [
    "print(evals.cumsum())"
   ]
  },
  {
   "cell_type": "markdown",
   "id": "aabcd096",
   "metadata": {},
   "source": [
    "Looking at the scree plot we can conclude that it's not possible to perform a dimensionality reduction. We need 11 components to explain at least 87% of the variance. We cannot take just the firsts component. \n",
    "\n",
    "Maybe this is ascribable to the PCA, since it's a linear process. \n",
    "We try to resolve this doubt using **ISOMAP**, a non-linear method\n"
   ]
  },
  {
   "cell_type": "code",
   "execution_count": null,
   "id": "2c7b4d0c",
   "metadata": {},
   "outputs": [],
   "source": []
  },
  {
   "cell_type": "markdown",
   "id": "e5d70f39",
   "metadata": {},
   "source": [
    "### 2. ISOMAP"
   ]
  },
  {
   "cell_type": "code",
   "execution_count": 35,
   "id": "f258c6b9",
   "metadata": {
    "scrolled": true
   },
   "outputs": [
    {
     "name": "stderr",
     "output_type": "stream",
     "text": [
      "C:\\Users\\LEONARDO\\anaconda3\\lib\\site-packages\\sklearn\\manifold\\_isomap.py:383: UserWarning: The number of connected components of the neighbors graph is 10 > 1. Completing the graph to fit Isomap might be slow. Increase the number of neighbors to avoid this issue.\n",
      "  self._fit_transform(X)\n",
      "C:\\Users\\LEONARDO\\anaconda3\\lib\\site-packages\\scipy\\sparse\\_index.py:102: SparseEfficiencyWarning: Changing the sparsity structure of a csr_matrix is expensive. lil_matrix is more efficient.\n",
      "  self._set_intXint(row, col, x.flat[0])\n",
      "C:\\Users\\LEONARDO\\anaconda3\\lib\\site-packages\\scipy\\sparse\\_index.py:102: SparseEfficiencyWarning: Changing the sparsity structure of a csr_matrix is expensive. lil_matrix is more efficient.\n",
      "  self._set_intXint(row, col, x.flat[0])\n",
      "C:\\Users\\LEONARDO\\anaconda3\\lib\\site-packages\\scipy\\sparse\\_index.py:102: SparseEfficiencyWarning: Changing the sparsity structure of a csr_matrix is expensive. lil_matrix is more efficient.\n",
      "  self._set_intXint(row, col, x.flat[0])\n",
      "C:\\Users\\LEONARDO\\anaconda3\\lib\\site-packages\\scipy\\sparse\\_index.py:102: SparseEfficiencyWarning: Changing the sparsity structure of a csr_matrix is expensive. lil_matrix is more efficient.\n",
      "  self._set_intXint(row, col, x.flat[0])\n",
      "C:\\Users\\LEONARDO\\anaconda3\\lib\\site-packages\\scipy\\sparse\\_index.py:102: SparseEfficiencyWarning: Changing the sparsity structure of a csr_matrix is expensive. lil_matrix is more efficient.\n",
      "  self._set_intXint(row, col, x.flat[0])\n",
      "C:\\Users\\LEONARDO\\anaconda3\\lib\\site-packages\\scipy\\sparse\\_index.py:102: SparseEfficiencyWarning: Changing the sparsity structure of a csr_matrix is expensive. lil_matrix is more efficient.\n",
      "  self._set_intXint(row, col, x.flat[0])\n",
      "C:\\Users\\LEONARDO\\anaconda3\\lib\\site-packages\\scipy\\sparse\\_index.py:102: SparseEfficiencyWarning: Changing the sparsity structure of a csr_matrix is expensive. lil_matrix is more efficient.\n",
      "  self._set_intXint(row, col, x.flat[0])\n",
      "C:\\Users\\LEONARDO\\anaconda3\\lib\\site-packages\\scipy\\sparse\\_index.py:102: SparseEfficiencyWarning: Changing the sparsity structure of a csr_matrix is expensive. lil_matrix is more efficient.\n",
      "  self._set_intXint(row, col, x.flat[0])\n",
      "C:\\Users\\LEONARDO\\anaconda3\\lib\\site-packages\\scipy\\sparse\\_index.py:102: SparseEfficiencyWarning: Changing the sparsity structure of a csr_matrix is expensive. lil_matrix is more efficient.\n",
      "  self._set_intXint(row, col, x.flat[0])\n",
      "C:\\Users\\LEONARDO\\anaconda3\\lib\\site-packages\\scipy\\sparse\\_index.py:102: SparseEfficiencyWarning: Changing the sparsity structure of a csr_matrix is expensive. lil_matrix is more efficient.\n",
      "  self._set_intXint(row, col, x.flat[0])\n",
      "C:\\Users\\LEONARDO\\anaconda3\\lib\\site-packages\\scipy\\sparse\\_index.py:102: SparseEfficiencyWarning: Changing the sparsity structure of a csr_matrix is expensive. lil_matrix is more efficient.\n",
      "  self._set_intXint(row, col, x.flat[0])\n",
      "C:\\Users\\LEONARDO\\anaconda3\\lib\\site-packages\\scipy\\sparse\\_index.py:102: SparseEfficiencyWarning: Changing the sparsity structure of a csr_matrix is expensive. lil_matrix is more efficient.\n",
      "  self._set_intXint(row, col, x.flat[0])\n",
      "C:\\Users\\LEONARDO\\anaconda3\\lib\\site-packages\\scipy\\sparse\\_index.py:102: SparseEfficiencyWarning: Changing the sparsity structure of a csr_matrix is expensive. lil_matrix is more efficient.\n",
      "  self._set_intXint(row, col, x.flat[0])\n",
      "C:\\Users\\LEONARDO\\anaconda3\\lib\\site-packages\\scipy\\sparse\\_index.py:102: SparseEfficiencyWarning: Changing the sparsity structure of a csr_matrix is expensive. lil_matrix is more efficient.\n",
      "  self._set_intXint(row, col, x.flat[0])\n",
      "C:\\Users\\LEONARDO\\anaconda3\\lib\\site-packages\\scipy\\sparse\\_index.py:102: SparseEfficiencyWarning: Changing the sparsity structure of a csr_matrix is expensive. lil_matrix is more efficient.\n",
      "  self._set_intXint(row, col, x.flat[0])\n",
      "C:\\Users\\LEONARDO\\anaconda3\\lib\\site-packages\\scipy\\sparse\\_index.py:102: SparseEfficiencyWarning: Changing the sparsity structure of a csr_matrix is expensive. lil_matrix is more efficient.\n",
      "  self._set_intXint(row, col, x.flat[0])\n",
      "C:\\Users\\LEONARDO\\anaconda3\\lib\\site-packages\\scipy\\sparse\\_index.py:102: SparseEfficiencyWarning: Changing the sparsity structure of a csr_matrix is expensive. lil_matrix is more efficient.\n",
      "  self._set_intXint(row, col, x.flat[0])\n",
      "C:\\Users\\LEONARDO\\anaconda3\\lib\\site-packages\\scipy\\sparse\\_index.py:102: SparseEfficiencyWarning: Changing the sparsity structure of a csr_matrix is expensive. lil_matrix is more efficient.\n",
      "  self._set_intXint(row, col, x.flat[0])\n",
      "C:\\Users\\LEONARDO\\anaconda3\\lib\\site-packages\\scipy\\sparse\\_index.py:102: SparseEfficiencyWarning: Changing the sparsity structure of a csr_matrix is expensive. lil_matrix is more efficient.\n",
      "  self._set_intXint(row, col, x.flat[0])\n",
      "C:\\Users\\LEONARDO\\anaconda3\\lib\\site-packages\\scipy\\sparse\\_index.py:102: SparseEfficiencyWarning: Changing the sparsity structure of a csr_matrix is expensive. lil_matrix is more efficient.\n",
      "  self._set_intXint(row, col, x.flat[0])\n",
      "C:\\Users\\LEONARDO\\anaconda3\\lib\\site-packages\\scipy\\sparse\\_index.py:102: SparseEfficiencyWarning: Changing the sparsity structure of a csr_matrix is expensive. lil_matrix is more efficient.\n",
      "  self._set_intXint(row, col, x.flat[0])\n",
      "C:\\Users\\LEONARDO\\anaconda3\\lib\\site-packages\\scipy\\sparse\\_index.py:102: SparseEfficiencyWarning: Changing the sparsity structure of a csr_matrix is expensive. lil_matrix is more efficient.\n",
      "  self._set_intXint(row, col, x.flat[0])\n",
      "C:\\Users\\LEONARDO\\anaconda3\\lib\\site-packages\\scipy\\sparse\\_index.py:102: SparseEfficiencyWarning: Changing the sparsity structure of a csr_matrix is expensive. lil_matrix is more efficient.\n",
      "  self._set_intXint(row, col, x.flat[0])\n",
      "C:\\Users\\LEONARDO\\anaconda3\\lib\\site-packages\\scipy\\sparse\\_index.py:102: SparseEfficiencyWarning: Changing the sparsity structure of a csr_matrix is expensive. lil_matrix is more efficient.\n",
      "  self._set_intXint(row, col, x.flat[0])\n",
      "C:\\Users\\LEONARDO\\anaconda3\\lib\\site-packages\\scipy\\sparse\\_index.py:102: SparseEfficiencyWarning: Changing the sparsity structure of a csr_matrix is expensive. lil_matrix is more efficient.\n",
      "  self._set_intXint(row, col, x.flat[0])\n",
      "C:\\Users\\LEONARDO\\anaconda3\\lib\\site-packages\\scipy\\sparse\\_index.py:102: SparseEfficiencyWarning: Changing the sparsity structure of a csr_matrix is expensive. lil_matrix is more efficient.\n",
      "  self._set_intXint(row, col, x.flat[0])\n",
      "C:\\Users\\LEONARDO\\anaconda3\\lib\\site-packages\\scipy\\sparse\\_index.py:102: SparseEfficiencyWarning: Changing the sparsity structure of a csr_matrix is expensive. lil_matrix is more efficient.\n",
      "  self._set_intXint(row, col, x.flat[0])\n",
      "C:\\Users\\LEONARDO\\anaconda3\\lib\\site-packages\\scipy\\sparse\\_index.py:102: SparseEfficiencyWarning: Changing the sparsity structure of a csr_matrix is expensive. lil_matrix is more efficient.\n",
      "  self._set_intXint(row, col, x.flat[0])\n",
      "C:\\Users\\LEONARDO\\anaconda3\\lib\\site-packages\\scipy\\sparse\\_index.py:102: SparseEfficiencyWarning: Changing the sparsity structure of a csr_matrix is expensive. lil_matrix is more efficient.\n",
      "  self._set_intXint(row, col, x.flat[0])\n",
      "C:\\Users\\LEONARDO\\anaconda3\\lib\\site-packages\\scipy\\sparse\\_index.py:102: SparseEfficiencyWarning: Changing the sparsity structure of a csr_matrix is expensive. lil_matrix is more efficient.\n",
      "  self._set_intXint(row, col, x.flat[0])\n",
      "C:\\Users\\LEONARDO\\anaconda3\\lib\\site-packages\\scipy\\sparse\\_index.py:102: SparseEfficiencyWarning: Changing the sparsity structure of a csr_matrix is expensive. lil_matrix is more efficient.\n",
      "  self._set_intXint(row, col, x.flat[0])\n",
      "C:\\Users\\LEONARDO\\anaconda3\\lib\\site-packages\\scipy\\sparse\\_index.py:102: SparseEfficiencyWarning: Changing the sparsity structure of a csr_matrix is expensive. lil_matrix is more efficient.\n",
      "  self._set_intXint(row, col, x.flat[0])\n",
      "C:\\Users\\LEONARDO\\anaconda3\\lib\\site-packages\\scipy\\sparse\\_index.py:102: SparseEfficiencyWarning: Changing the sparsity structure of a csr_matrix is expensive. lil_matrix is more efficient.\n",
      "  self._set_intXint(row, col, x.flat[0])\n",
      "C:\\Users\\LEONARDO\\anaconda3\\lib\\site-packages\\scipy\\sparse\\_index.py:102: SparseEfficiencyWarning: Changing the sparsity structure of a csr_matrix is expensive. lil_matrix is more efficient.\n",
      "  self._set_intXint(row, col, x.flat[0])\n",
      "C:\\Users\\LEONARDO\\anaconda3\\lib\\site-packages\\scipy\\sparse\\_index.py:102: SparseEfficiencyWarning: Changing the sparsity structure of a csr_matrix is expensive. lil_matrix is more efficient.\n",
      "  self._set_intXint(row, col, x.flat[0])\n",
      "C:\\Users\\LEONARDO\\anaconda3\\lib\\site-packages\\scipy\\sparse\\_index.py:102: SparseEfficiencyWarning: Changing the sparsity structure of a csr_matrix is expensive. lil_matrix is more efficient.\n",
      "  self._set_intXint(row, col, x.flat[0])\n",
      "C:\\Users\\LEONARDO\\anaconda3\\lib\\site-packages\\scipy\\sparse\\_index.py:102: SparseEfficiencyWarning: Changing the sparsity structure of a csr_matrix is expensive. lil_matrix is more efficient.\n",
      "  self._set_intXint(row, col, x.flat[0])\n",
      "C:\\Users\\LEONARDO\\anaconda3\\lib\\site-packages\\scipy\\sparse\\_index.py:102: SparseEfficiencyWarning: Changing the sparsity structure of a csr_matrix is expensive. lil_matrix is more efficient.\n",
      "  self._set_intXint(row, col, x.flat[0])\n",
      "C:\\Users\\LEONARDO\\anaconda3\\lib\\site-packages\\scipy\\sparse\\_index.py:102: SparseEfficiencyWarning: Changing the sparsity structure of a csr_matrix is expensive. lil_matrix is more efficient.\n",
      "  self._set_intXint(row, col, x.flat[0])\n",
      "C:\\Users\\LEONARDO\\anaconda3\\lib\\site-packages\\scipy\\sparse\\_index.py:102: SparseEfficiencyWarning: Changing the sparsity structure of a csr_matrix is expensive. lil_matrix is more efficient.\n",
      "  self._set_intXint(row, col, x.flat[0])\n",
      "C:\\Users\\LEONARDO\\anaconda3\\lib\\site-packages\\scipy\\sparse\\_index.py:102: SparseEfficiencyWarning: Changing the sparsity structure of a csr_matrix is expensive. lil_matrix is more efficient.\n",
      "  self._set_intXint(row, col, x.flat[0])\n",
      "C:\\Users\\LEONARDO\\anaconda3\\lib\\site-packages\\scipy\\sparse\\_index.py:102: SparseEfficiencyWarning: Changing the sparsity structure of a csr_matrix is expensive. lil_matrix is more efficient.\n",
      "  self._set_intXint(row, col, x.flat[0])\n",
      "C:\\Users\\LEONARDO\\anaconda3\\lib\\site-packages\\scipy\\sparse\\_index.py:102: SparseEfficiencyWarning: Changing the sparsity structure of a csr_matrix is expensive. lil_matrix is more efficient.\n",
      "  self._set_intXint(row, col, x.flat[0])\n",
      "C:\\Users\\LEONARDO\\anaconda3\\lib\\site-packages\\scipy\\sparse\\_index.py:102: SparseEfficiencyWarning: Changing the sparsity structure of a csr_matrix is expensive. lil_matrix is more efficient.\n",
      "  self._set_intXint(row, col, x.flat[0])\n",
      "C:\\Users\\LEONARDO\\anaconda3\\lib\\site-packages\\scipy\\sparse\\_index.py:102: SparseEfficiencyWarning: Changing the sparsity structure of a csr_matrix is expensive. lil_matrix is more efficient.\n",
      "  self._set_intXint(row, col, x.flat[0])\n"
     ]
    },
    {
     "name": "stdout",
     "output_type": "stream",
     "text": [
      "(1000, 5)\n"
     ]
    }
   ],
   "source": [
    "from sklearn.manifold import Isomap\n",
    "\n",
    "embedding = Isomap(n_components = 5)\n",
    "\n",
    "X_isomap = embedding.fit_transform(X)\n",
    "print(X_isomap.shape)\n"
   ]
  },
  {
   "cell_type": "code",
   "execution_count": 36,
   "id": "310d581e",
   "metadata": {
    "scrolled": false
   },
   "outputs": [
    {
     "data": {
      "image/png": "[encoded data removed]",
      "text/plain": [
       "<Figure size 432x288 with 1 Axes>"
      ]
     },
     "metadata": {
      "needs_background": "light"
     },
     "output_type": "display_data"
    }
   ],
   "source": [
    "sns.scatterplot(x = X_isomap[:, 0], y = X_isomap[:,1], hue = det)\n",
    "plt.title('Isomap components for scaled data');"
   ]
  },
  {
   "cell_type": "markdown",
   "id": "4cf4e1ac",
   "metadata": {},
   "source": [
    "After this inconclusive result we perform our analysis on the entire set of data."
   ]
  },
  {
   "cell_type": "code",
   "execution_count": null,
   "id": "fdcf7eb2",
   "metadata": {},
   "outputs": [],
   "source": []
  },
  {
   "cell_type": "markdown",
   "id": "b68692c9",
   "metadata": {},
   "source": [
    "## Decision Tree Classifier"
   ]
  },
  {
   "cell_type": "markdown",
   "id": "2629d4c9",
   "metadata": {},
   "source": [
    "### 1. target = det"
   ]
  },
  {
   "cell_type": "markdown",
   "id": "7e44cbe6",
   "metadata": {},
   "source": [
    "We decide to use a **Decision Tree Classifier**, a non-parametric supervised learning method. Roughly speaking it's a hierarchical application of decision boundaries.\n",
    "\n",
    "To obtain the optimal model parameters we perform a K-fold cross validation, in particular on the maximum depth of the three. We will use GridSearchCV to do that.\n"
   ]
  },
  {
   "cell_type": "code",
   "execution_count": 37,
   "id": "36dc8b43",
   "metadata": {},
   "outputs": [
    {
     "name": "stdout",
     "output_type": "stream",
     "text": [
      "Optimal parameter:  3\n",
      "DecisionTreeClassifier(max_depth=3)\n"
     ]
    }
   ],
   "source": [
    "from sklearn.model_selection import GridSearchCV\n",
    "from sklearn.tree import DecisionTreeClassifier\n",
    "\n",
    "clf = DecisionTreeClassifier()\n",
    "drange = np.arange(1,10)  \n",
    "\n",
    "GS = GridSearchCV(clf, param_grid={'max_depth': drange}, cv=5, scoring = 'neg_root_mean_squared_error')\n",
    "GS.fit(X, det)\n",
    "\n",
    "optimal_depth = GS.best_params_['max_depth']\n",
    "print('Optimal parameter: ', optimal_depth)\n",
    "print(GS.best_estimator_)"
   ]
  },
  {
   "cell_type": "code",
   "execution_count": 38,
   "id": "2c00a437",
   "metadata": {},
   "outputs": [],
   "source": [
    "from sklearn.model_selection import train_test_split\n",
    "\n",
    "scaler = StandardScaler()\n",
    "X_scaled = scaler.fit_transform(X)\n",
    "\n",
    "X_train, X_test, y_train, y_test = train_test_split(X_scaled, det, test_size=0.3, random_state=42)\n"
   ]
  },
  {
   "cell_type": "markdown",
   "id": "8105eb3c",
   "metadata": {},
   "source": [
    "We choose as splitting criteria \"entropy\"."
   ]
  },
  {
   "cell_type": "code",
   "execution_count": 39,
   "id": "d3884a9b",
   "metadata": {},
   "outputs": [
    {
     "name": "stdout",
     "output_type": "stream",
     "text": [
      "Accuracy for DTC using det as target: 0.947\n"
     ]
    }
   ],
   "source": [
    "from sklearn.metrics import accuracy_score, precision_score, recall_score\n",
    "\n",
    "dt = DecisionTreeClassifier(random_state=0, max_depth= optimal_depth, criterion='entropy') \n",
    "dt.fit(X_train, y_train)\n",
    "\n",
    "y_pred = dt.predict(X_test)\n",
    "\n",
    "accuracy_dt_det = accuracy_score(y_test, y_pred)\n",
    "\n",
    "print(\"Accuracy for DTC using det as target: %.3f\" %accuracy_dt_det)"
   ]
  },
  {
   "cell_type": "code",
   "execution_count": 40,
   "id": "b2447a4b",
   "metadata": {
    "scrolled": true
   },
   "outputs": [
    {
     "data": {
      "image/png": "[encoded data removed]",
      "text/plain": [
       "<Figure size 432x288 with 2 Axes>"
      ]
     },
     "metadata": {
      "needs_background": "light"
     },
     "output_type": "display_data"
    }
   ],
   "source": [
    "from sklearn.metrics import confusion_matrix, ConfusionMatrixDisplay\n",
    "\n",
    "Conf_matrix = confusion_matrix(y_test, y_pred)\n",
    "disp = ConfusionMatrixDisplay(confusion_matrix=Conf_matrix, display_labels=dt.classes_)\n",
    "\n",
    "disp.plot( cmap = 'magma')\n",
    "plt.show()"
   ]
  },
  {
   "cell_type": "markdown",
   "id": "b3919566",
   "metadata": {},
   "source": [
    "We have an high accurancy but some confusion between objects with 0 as predicted label and 1 as true label.\n",
    "We decide also to compute the **completness** and the **contamination**, defined as follow:\n",
    "\n",
    "$$ \n",
    "{\\rm completeness} = \\frac{\\rm true\\ positives}{\\rm true\\ positives + false\\ negatives} \n",
    "$$\n",
    "\n",
    "$$  \n",
    "{\\rm contamination} = \\frac{\\rm false\\ positives}{\\rm true\\ positives + false\\ positives}\n",
    "$$"
   ]
  },
  {
   "cell_type": "code",
   "execution_count": 41,
   "id": "6a3f4cd4",
   "metadata": {},
   "outputs": [
    {
     "name": "stdout",
     "output_type": "stream",
     "text": [
      "Completeness for DTC using det as target: 0.682\n",
      "Contamination for DTC using det as target: 0.062\n"
     ]
    }
   ],
   "source": [
    "# true negatives, false positives, false negatives, true positives\n",
    "tn, fp, fn, tp = Conf_matrix.ravel() \n",
    "\n",
    "completeness_dt_det = tp/(tp+fn)\n",
    "contamination_dt_det = fp/(tp+fp)\n",
    "\n",
    "print(\"Completeness for DTC using det as target: %.3f\" %completeness_dt_det)\n",
    "print(\"Contamination for DTC using det as target: %.3f\" %contamination_dt_det )"
   ]
  },
  {
   "cell_type": "code",
   "execution_count": null,
   "id": "f0dc1f94",
   "metadata": {},
   "outputs": [],
   "source": []
  },
  {
   "cell_type": "code",
   "execution_count": null,
   "id": "39b9b5b3",
   "metadata": {},
   "outputs": [],
   "source": []
  },
  {
   "cell_type": "markdown",
   "id": "2368f0e4",
   "metadata": {},
   "source": [
    "### 2. target = snr"
   ]
  },
  {
   "cell_type": "markdown",
   "id": "d2632835",
   "metadata": {},
   "source": [
    "We perform the same analysis but instead of using a classifier on det, we use a regressor on snr."
   ]
  },
  {
   "cell_type": "code",
   "execution_count": 42,
   "id": "ef32caed",
   "metadata": {},
   "outputs": [
    {
     "name": "stdout",
     "output_type": "stream",
     "text": [
      "Optimal parameter:  8\n",
      "DecisionTreeRegressor(max_depth=8)\n"
     ]
    }
   ],
   "source": [
    "from sklearn.tree import DecisionTreeRegressor\n",
    "\n",
    "rg = DecisionTreeRegressor()\n",
    "drange = np.arange(1,10)  \n",
    "\n",
    "GS = GridSearchCV(rg, param_grid={'max_depth': drange}, cv=5, scoring = 'neg_root_mean_squared_error')\n",
    "GS.fit(X, snr)\n",
    "\n",
    "optimal_depth = GS.best_params_['max_depth']\n",
    "print('Optimal parameter: ', optimal_depth)\n",
    "print(GS.best_estimator_)"
   ]
  },
  {
   "cell_type": "code",
   "execution_count": 72,
   "id": "4d88386b",
   "metadata": {},
   "outputs": [
    {
     "name": "stdout",
     "output_type": "stream",
     "text": [
      "dt.predict gives snr predicted values, so I threshold the predictions\n",
      "Accuracy for DTR using snr: 0.930\n"
     ]
    }
   ],
   "source": [
    "scaler = StandardScaler()\n",
    "X_scaled = scaler.fit_transform(X)\n",
    "X_train, X_test, y_train, y_test = train_test_split(X_scaled, snr, test_size=0.3, random_state=2)\n",
    "\n",
    "dt = DecisionTreeRegressor(random_state=0, max_depth= optimal_depth, criterion = \"squared_error\") \n",
    "dt.fit(X_train, y_train)\n",
    "\n",
    "y_pred = dt.predict(X_test)\n",
    "\n",
    "print(\"dt.predict gives snr predicted values, so I threshold the predictions\")\n",
    "\n",
    "y_pred_class = (y_pred > 12).astype(int)\n",
    "y_test_class = (y_test > 12).astype(int)\n",
    "\n",
    "\n",
    "accuracy_dt_snr = accuracy_score(y_test_class, y_pred_class)\n",
    "\n",
    "print(\"Accuracy for DTR using snr: %.3f\" %accuracy_dt_snr)"
   ]
  },
  {
   "cell_type": "code",
   "execution_count": 44,
   "id": "460f847d",
   "metadata": {},
   "outputs": [
    {
     "data": {
      "image/png": "[encoded data removed]",
      "text/plain": [
       "<Figure size 432x288 with 2 Axes>"
      ]
     },
     "metadata": {
      "needs_background": "light"
     },
     "output_type": "display_data"
    }
   ],
   "source": [
    "Conf_matrix = confusion_matrix(y_test_class, y_pred_class)\n",
    "disp = ConfusionMatrixDisplay(confusion_matrix=Conf_matrix)\n",
    "\n",
    "disp.plot( cmap = 'magma')\n",
    "plt.show()"
   ]
  },
  {
   "cell_type": "code",
   "execution_count": 45,
   "id": "21324dc2",
   "metadata": {},
   "outputs": [
    {
     "name": "stdout",
     "output_type": "stream",
     "text": [
      "Completeness for DTR on snr: 0.659\n",
      "Contamination for DTR on snr: 0.171\n"
     ]
    }
   ],
   "source": [
    "# true negatives, false positives, false negatives, true positives\n",
    "tn, fp, fn, tp = Conf_matrix.ravel() \n",
    "\n",
    "completeness_dt_snr = tp/(tp+fn)\n",
    "contamination_dt_snr = fp/(tp+fp)\n",
    "\n",
    "print(\"Completeness for DTR on snr: %.3f\" %completeness_dt_snr)\n",
    "print(\"Contamination for DTR on snr: %.3f\" %contamination_dt_snr)"
   ]
  },
  {
   "cell_type": "code",
   "execution_count": null,
   "id": "65004a95",
   "metadata": {},
   "outputs": [],
   "source": []
  },
  {
   "cell_type": "markdown",
   "id": "b08a4fc3",
   "metadata": {},
   "source": [
    "## Random Forest "
   ]
  },
  {
   "cell_type": "markdown",
   "id": "1a220412",
   "metadata": {},
   "source": [
    "We can improve the Decision Tree with Bagging (bootstrap aggregation). In short, bagging averages the predictive results of a series of bootstrap samples of the original data.\n",
    "\n",
    "We can do even more than that.\n",
    "\n",
    "**Random forests** extend bagging by generating decision trees from the bootstrap samples. In addition to drawing random samples from our training set with replacement, we may also draw random subsets of features for training the individual trees.\n"
   ]
  },
  {
   "cell_type": "markdown",
   "id": "dccdac6b",
   "metadata": {},
   "source": [
    "### 1. target = det"
   ]
  },
  {
   "cell_type": "markdown",
   "id": "75cd134a",
   "metadata": {},
   "source": [
    "We perform a K-fold cross validation to determine both the maximum depth and the number od the trees."
   ]
  },
  {
   "cell_type": "code",
   "execution_count": 46,
   "id": "b700bca3",
   "metadata": {},
   "outputs": [
    {
     "name": "stdout",
     "output_type": "stream",
     "text": [
      "Optimal depth:  7\n",
      "RandomForestClassifier(max_depth=7)\n",
      "Optimal number of trees:  9\n",
      "RandomForestClassifier(n_estimators=9)\n"
     ]
    }
   ],
   "source": [
    "from sklearn.ensemble import RandomForestClassifier\n",
    "\n",
    "clf = RandomForestClassifier()\n",
    "drange = np.arange(1,10)  \n",
    "\n",
    "GS = GridSearchCV(clf, param_grid={'max_depth': drange}, cv=5, scoring = 'neg_root_mean_squared_error')\n",
    "GS.fit(X, det)\n",
    "\n",
    "optimal_depth = GS.best_params_['max_depth']\n",
    "print('Optimal depth: ', optimal_depth)\n",
    "print(GS.best_estimator_)\n",
    "\n",
    "ntrees = np.arange(1,20) \n",
    "GS = GridSearchCV(clf, param_grid={'n_estimators': ntrees}, cv=5, scoring = 'neg_root_mean_squared_error')\n",
    "GS.fit(X, det)\n",
    "\n",
    "optimal_trees = GS.best_params_['n_estimators']\n",
    "print('Optimal number of trees: ', optimal_trees)\n",
    "print(GS.best_estimator_)"
   ]
  },
  {
   "cell_type": "code",
   "execution_count": 47,
   "id": "488fc7cb",
   "metadata": {},
   "outputs": [],
   "source": [
    "scaler = StandardScaler()\n",
    "X_scaled = scaler.fit_transform(X)\n",
    "\n",
    "X_train, X_test, y_train, y_test = train_test_split(X_scaled, det, test_size=0.3, random_state=8)"
   ]
  },
  {
   "cell_type": "code",
   "execution_count": 48,
   "id": "7c6bc8e2",
   "metadata": {},
   "outputs": [
    {
     "name": "stdout",
     "output_type": "stream",
     "text": [
      "Accuracy for RF using det as target: 0.920\n"
     ]
    }
   ],
   "source": [
    "rf = RandomForestClassifier(random_state=0, max_depth= optimal_depth, n_estimators = optimal_trees , criterion='entropy') \n",
    "rf.fit(X_train, y_train)\n",
    "\n",
    "y_pred = rf.predict(X_test)\n",
    "\n",
    "accuracy_rf_det = accuracy_score(y_test, y_pred)\n",
    "\n",
    "print(\"Accuracy for RF using det as target: %.3f\" %accuracy_rf_det)"
   ]
  },
  {
   "cell_type": "code",
   "execution_count": 49,
   "id": "f8530404",
   "metadata": {},
   "outputs": [
    {
     "data": {
      "image/png": "[encoded data removed]",
      "text/plain": [
       "<Figure size 432x288 with 2 Axes>"
      ]
     },
     "metadata": {
      "needs_background": "light"
     },
     "output_type": "display_data"
    }
   ],
   "source": [
    "Conf_matrix = confusion_matrix(y_test, y_pred)\n",
    "disp = ConfusionMatrixDisplay(confusion_matrix=Conf_matrix, display_labels=rf.classes_)\n",
    "\n",
    "disp.plot( cmap = 'magma')\n",
    "plt.show()"
   ]
  },
  {
   "cell_type": "code",
   "execution_count": 50,
   "id": "fe0bcc2d",
   "metadata": {},
   "outputs": [
    {
     "name": "stdout",
     "output_type": "stream",
     "text": [
      "Completeness for RF using det as target: 0.600\n",
      "Contamination for RF using det as target: 0.118\n"
     ]
    }
   ],
   "source": [
    "# true negatives, false positives, false negatives, true positives\n",
    "tn, fp, fn, tp = Conf_matrix.ravel() \n",
    "\n",
    "completeness_rf_det = tp/(tp+fn)\n",
    "contamination_rf_det = fp/(tp+fp)\n",
    "\n",
    "print(\"Completeness for RF using det as target: %.3f\" %completeness_rf_det)\n",
    "print(\"Contamination for RF using det as target: %.3f\" %contamination_rf_det )"
   ]
  },
  {
   "cell_type": "code",
   "execution_count": null,
   "id": "00eec2e7",
   "metadata": {},
   "outputs": [],
   "source": []
  },
  {
   "cell_type": "markdown",
   "id": "400b36a8",
   "metadata": {},
   "source": [
    "### 2. target = snr"
   ]
  },
  {
   "cell_type": "code",
   "execution_count": 74,
   "id": "86f3abaf",
   "metadata": {},
   "outputs": [
    {
     "name": "stdout",
     "output_type": "stream",
     "text": [
      "Optimal depth:  6\n",
      "RandomForestRegressor(max_depth=6)\n",
      "Optimal number of trees:  8\n",
      "RandomForestClassifier(n_estimators=8)\n"
     ]
    }
   ],
   "source": [
    "from sklearn.ensemble import RandomForestRegressor\n",
    "\n",
    "rg = RandomForestRegressor()\n",
    "drange = np.arange(1,10)  \n",
    "\n",
    "GS = GridSearchCV(rg, param_grid={'max_depth': drange}, cv=5, scoring = 'neg_root_mean_squared_error')\n",
    "GS.fit(X, snr)\n",
    "\n",
    "optimal_depth = GS.best_params_['max_depth']\n",
    "print('Optimal depth: ', optimal_depth)\n",
    "print(GS.best_estimator_)\n",
    "\n",
    "ntrees = np.arange(1,20) \n",
    "GS = GridSearchCV(clf, param_grid={'n_estimators': ntrees}, cv=5, scoring = 'neg_root_mean_squared_error')\n",
    "GS.fit(X, det)\n",
    "\n",
    "optimal_trees = GS.best_params_['n_estimators']\n",
    "print('Optimal number of trees: ', optimal_trees)\n",
    "print(GS.best_estimator_)"
   ]
  },
  {
   "cell_type": "code",
   "execution_count": 78,
   "id": "9d56567d",
   "metadata": {},
   "outputs": [
    {
     "name": "stdout",
     "output_type": "stream",
     "text": [
      "Accuracy for RF using snr: 0.930\n"
     ]
    }
   ],
   "source": [
    "scaler = StandardScaler()\n",
    "X_scaled = scaler.fit_transform(X)\n",
    "\n",
    "X_train, X_test, y_train, y_test = train_test_split(X_scaled, snr, test_size=0.3, random_state=3)\n",
    "\n",
    "rf = RandomForestRegressor(random_state=0, max_depth= optimal_depth , n_estimators = optimal_trees, criterion = \"absolute_error\") \n",
    "rf.fit(X_train, y_train)\n",
    "\n",
    "y_pred = rf.predict(X_test)\n",
    "\n",
    "\n",
    "\n",
    "y_pred_class = (y_pred > 12).astype(int)\n",
    "y_test_class = (y_test > 12).astype(int)\n",
    "\n",
    "accuracy_rf_snr = accuracy_score(y_test_class, y_pred_class)\n",
    "\n",
    "print(\"Accuracy for RF using snr: %.3f\" %accuracy_rf_snr)"
   ]
  },
  {
   "cell_type": "code",
   "execution_count": 79,
   "id": "b79d2f10",
   "metadata": {},
   "outputs": [
    {
     "data": {
      "image/png": "[encoded data removed]",
      "text/plain": [
       "<Figure size 432x288 with 2 Axes>"
      ]
     },
     "metadata": {
      "needs_background": "light"
     },
     "output_type": "display_data"
    }
   ],
   "source": [
    "Conf_matrix = confusion_matrix(y_test_class, y_pred_class)\n",
    "disp = ConfusionMatrixDisplay(confusion_matrix=Conf_matrix)\n",
    "\n",
    "disp.plot( cmap = 'magma')\n",
    "plt.show()"
   ]
  },
  {
   "cell_type": "code",
   "execution_count": 80,
   "id": "65b58a32",
   "metadata": {},
   "outputs": [
    {
     "name": "stdout",
     "output_type": "stream",
     "text": [
      "Completeness for RF using snr: 0.740\n",
      "Contamination for RF using using snr: 0.178\n"
     ]
    }
   ],
   "source": [
    "# true negatives, false positives, false negatives, true positives\n",
    "tn, fp, fn, tp = Conf_matrix.ravel() \n",
    "\n",
    "completeness_rf_snr = tp/(tp+fn)\n",
    "contamination_rf_snr = fp/(tp+fp)\n",
    "\n",
    "print(\"Completeness for RF using snr: %.3f\" %completeness_rf_snr)\n",
    "print(\"Contamination for RF using using snr: %.3f\" %contamination_rf_snr)"
   ]
  },
  {
   "cell_type": "code",
   "execution_count": null,
   "id": "699746f7",
   "metadata": {},
   "outputs": [],
   "source": []
  },
  {
   "cell_type": "markdown",
   "id": "d7abbb72",
   "metadata": {},
   "source": [
    "## Summary results"
   ]
  },
  {
   "cell_type": "code",
   "execution_count": 81,
   "id": "07548958",
   "metadata": {},
   "outputs": [
    {
     "name": "stdout",
     "output_type": "stream",
     "text": [
      "--- Accuracy ---\n",
      "Accuracy for DTC using det as target: 0.947\n",
      "Accuracy for DTR using snr: 0.930\n",
      "Accuracy for RF using det as target: 0.920\n",
      "Accuracy for RF using snr: 0.930\n",
      "\n",
      "\n",
      "--- Completeness ---\n",
      "Completeness for DTC using det as target: 0.682\n",
      "Completeness for DTR on snr: 0.659\n",
      "Completeness for RF using det as target: 0.600\n",
      "Completeness for RF using snr: 0.740\n",
      "\n",
      "\n",
      "--- Contamination ---\n",
      "Contamination for DTC using det as target: 0.062\n",
      "Contamination for DTR on snr: 0.171\n",
      "Contamination for RF using det as target: 0.118\n",
      "Contamination for RF using using snr: 0.178\n"
     ]
    }
   ],
   "source": [
    "print(\"--- Accuracy ---\")\n",
    "print(\"Accuracy for DTC using det as target: %.3f\" %accuracy_dt_det)\n",
    "print(\"Accuracy for DTR using snr: %.3f\" %accuracy_dt_snr)\n",
    "print(\"Accuracy for RF using det as target: %.3f\" %accuracy_rf_det)\n",
    "print(\"Accuracy for RF using snr: %.3f\" %accuracy_rf_snr)\n",
    "\n",
    "print(\"\\n\")\n",
    "print(\"--- Completeness ---\")\n",
    "print(\"Completeness for DTC using det as target: %.3f\" %completeness_dt_det)\n",
    "print(\"Completeness for DTR on snr: %.3f\" %completeness_dt_snr)\n",
    "print(\"Completeness for RF using det as target: %.3f\" %completeness_rf_det)\n",
    "print(\"Completeness for RF using snr: %.3f\" %completeness_rf_snr)\n",
    "\n",
    "print(\"\\n\")\n",
    "print(\"--- Contamination ---\")\n",
    "\n",
    "print(\"Contamination for DTC using det as target: %.3f\" %contamination_dt_det)\n",
    "print(\"Contamination for DTR on snr: %.3f\" %contamination_dt_snr)\n",
    "print(\"Contamination for RF using det as target: %.3f\" %contamination_rf_det)\n",
    "print(\"Contamination for RF using using snr: %.3f\" %contamination_rf_snr)"
   ]
  },
  {
   "cell_type": "code",
   "execution_count": null,
   "id": "018b28f1",
   "metadata": {},
   "outputs": [],
   "source": []
  },
  {
   "cell_type": "code",
   "execution_count": null,
   "id": "14dcce23",
   "metadata": {},
   "outputs": [],
   "source": []
  }
 ],
 "metadata": {
  "kernelspec": {
   "display_name": "Python 3 (ipykernel)",
   "language": "python",
   "name": "python3"
  },
  "language_info": {
   "codemirror_mode": {
    "name": "ipython",
    "version": 3
   },
   "file_extension": ".py",
   "mimetype": "text/x-python",
   "name": "python",
   "nbconvert_exporter": "python",
   "pygments_lexer": "ipython3",
   "version": "3.9.12"
  }
 },
 "nbformat": 4,
 "nbformat_minor": 5
}
