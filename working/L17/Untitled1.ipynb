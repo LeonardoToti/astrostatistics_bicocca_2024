{
 "cells": [
  {
   "cell_type": "code",
   "execution_count": 1,
   "id": "628cf0f7",
   "metadata": {},
   "outputs": [],
   "source": [
    "import numpy as np\n",
    "import pylab as plt\n",
    "from matplotlib import pyplot as plt"
   ]
  },
  {
   "cell_type": "code",
   "execution_count": 2,
   "id": "01d0247b",
   "metadata": {},
   "outputs": [
    {
     "data": {
      "text/plain": [
       "(35.0, 50.0)"
      ]
     },
     "execution_count": 2,
     "metadata": {},
     "output_type": "execute_result"
    },
    {
     "data": {
      "image/png": "[encoded data removed]",
      "text/plain": [
       "<Figure size 432x288 with 1 Axes>"
      ]
     },
     "metadata": {
      "needs_background": "light"
     },
     "output_type": "display_data"
    }
   ],
   "source": [
    "from astroML.datasets import generate_mu_z\n",
    "z_sample, mu_sample, dmu = generate_mu_z(100, random_state=1234)\n",
    "\n",
    "plt.errorbar(z_sample, mu_sample, dmu, fmt='.k', ecolor='gray', lw=1,label='data')\n",
    "plt.xlabel(\"z\")\n",
    "plt.ylabel(\"$\\mu$\")\n",
    "plt.legend(loc='lower right')\n",
    "plt.xlim(0,2)\n",
    "plt.ylim(35,50)"
   ]
  },
  {
   "cell_type": "code",
   "execution_count": 3,
   "id": "29d2d924",
   "metadata": {},
   "outputs": [],
   "source": [
    "f = open(\"Supernova.txt\", \"w\")\n",
    "f.write(str(z_sample) + '\\n')\n",
    "f.write(str(mu_sample) + '\\n') \n",
    "f.write(str(dmu) + '\\n')\n",
    "\n",
    "\n",
    "f.close()"
   ]
  },
  {
   "cell_type": "code",
   "execution_count": 5,
   "id": "f4acda22",
   "metadata": {},
   "outputs": [
    {
     "name": "stdout",
     "output_type": "stream",
     "text": [
      "[41.6361725 ,43.85304855,42.425679  ,44.96472492,43.66317337,41.0385854 ,\n",
      " 40.47572333,43.12308097,45.64726282,44.02852206,41.50167538,42.92901192,\n",
      " 42.12960007,42.78840966,42.15345413,43.20734785,42.91403402,38.48935111,\n",
      " 44.02200845,45.49348403,41.12442734,42.43426496,40.95384945,40.67303793,\n",
      " 45.41974758,41.38412117,41.57489699,44.35631529,41.44279219,42.52080021,\n",
      " 44.73365314,40.44836116,43.73973073,40.93682681,43.00695644,42.65197548,\n",
      " 40.47569605,44.90728053,40.58123887,44.73434708,39.18782683,40.60774377,\n",
      " 39.99757862,43.77679993,43.02875083,42.7005633 ,40.01713479,44.47341077,\n",
      " 42.29166558,41.52310588,38.39741027,44.69697233,41.03100827,38.68032347,\n",
      " 43.65443054,43.99305977,44.31984612,44.74532937,46.01542876,43.13336621,\n",
      " 42.12725671,43.86382122,42.22043135,43.13342988,42.39951315,40.2189722 ,\n",
      " 41.78001517,45.20348446,41.63584333,39.62962917,41.33982132,42.45204301,\n",
      " 41.47045908,40.53942813,41.66362237,43.54157458,41.78066489,41.69520148,\n",
      " 36.846956  ,41.76398102,42.75984556,43.04804394,45.35933145,43.87095979,\n",
      " 43.18398943,40.12399374,42.5202532 ,42.63376861,43.08992651,41.96218406,\n",
      " 42.58715034,42.81244571,41.196534  ,46.16398628,40.31104406,41.15578543,\n",
      " 42.91678996,43.76685359,40.70292806,41.70660771]\n"
     ]
    }
   ],
   "source": [
    "print(np.array2string(mu_sample, separator=\",\"))"
   ]
  },
  {
   "cell_type": "code",
   "execution_count": null,
   "id": "d54ff219",
   "metadata": {},
   "outputs": [],
   "source": []
  }
 ],
 "metadata": {
  "kernelspec": {
   "display_name": "Python 3 (ipykernel)",
   "language": "python",
   "name": "python3"
  },
  "language_info": {
   "codemirror_mode": {
    "name": "ipython",
    "version": 3
   },
   "file_extension": ".py",
   "mimetype": "text/x-python",
   "name": "python",
   "nbconvert_exporter": "python",
   "pygments_lexer": "ipython3",
   "version": "3.9.12"
  }
 },
 "nbformat": 4,
 "nbformat_minor": 5
}
