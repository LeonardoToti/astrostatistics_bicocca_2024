{
 "cells": [
  {
   "cell_type": "markdown",
   "id": "d6d59f9c",
   "metadata": {},
   "source": [
    "# Cloudy or Sunny"
   ]
  },
  {
   "cell_type": "markdown",
   "id": "5ae48d78",
   "metadata": {},
   "source": [
    "Planning astronomical observation we want to predict the  next day sky condition based on today weather."
   ]
  },
  {
   "cell_type": "code",
   "execution_count": 1,
   "id": "c129b660",
   "metadata": {},
   "outputs": [],
   "source": [
    "import numpy as np\n",
    "from scipy import stats, interpolate\n",
    "from matplotlib import pyplot as plt\n",
    "from tqdm import tqdm\n",
    "from sklearn.mixture import GaussianMixture\n",
    "from scipy.stats import uniform\n",
    "import astroML.stats"
   ]
  },
  {
   "cell_type": "markdown",
   "id": "f4aa2658",
   "metadata": {},
   "source": [
    "From past history, we know that:\n",
    "\n",
    "$$p({\\rm clear \\; tomorrow} \\, |\\,  {\\rm cloudy \\; today}) = 0.5,$$\n",
    "\n",
    "which means that\n",
    "\n",
    "$$p({\\rm cloudy \\; tomorrow} \\, |\\, {\\rm cloudy \\; today}) = 0.5.$$\n",
    "\n",
    "We also have\n",
    "\n",
    "$$p({\\rm cloudy \\; tomorrow} \\, |\\, {\\rm clear \\; today}) = 0.1,$$\n",
    "\n",
    "which means that\n",
    "\n",
    "$$p({\\rm clear \\; tomorrow} \\, |\\, {\\rm clear \\; today}) = 0.9.$$\n",
    "\n",
    "To accomplish our goal we construct a **Markov chain**:\n",
    "\n",
    "Here is an illustration of this process from an article in [towarddatascience.com](https://towardsdatascience.com/introduction-to-markov-chains-50da3645a50d).\n",
    "\n",
    "![image.png](https://miro.medium.com/max/416/1*frksGjINf5oTjx7WL81U3w.png)\n"
   ]
  },
  {
   "cell_type": "markdown",
   "id": "5fee7c50",
   "metadata": {},
   "source": [
    "Let's start with a clear day, clear = 0, cloudy = 1"
   ]
  },
  {
   "cell_type": "code",
   "execution_count": 2,
   "id": "cd9e63fc",
   "metadata": {
    "scrolled": true
   },
   "outputs": [],
   "source": [
    "N = 10000 #number of days \n",
    "result = []\n",
    "trace_clear = []\n",
    "\n",
    "def Next_day (x):\n",
    "    for i in range(N): \n",
    "        if (x == 0):\n",
    "            result.append(np.random.choice(np.array([0, 1]), p=np.array([0.9, 0.1])))\n",
    "        else:\n",
    "            result.append(np.random.choice(np.array([0, 1]), p=np.array([0.5, 0.5])))\n",
    "        # we are doing this for a more general case where we don't have just 0 and 1 associated do cloudy and clear, here the opposite\n",
    "        if (result[i] == 0):\n",
    "            trace_clear.append(1)\n",
    "        else: \n",
    "            trace_clear.append(0)\n",
    "        x = result[-1]\n",
    "    return  \n",
    "\n",
    "\n",
    "Next_day(0)\n",
    "\n",
    "result = np.array(result) \n",
    "trace_clear = np.array(trace_clear)"
   ]
  },
  {
   "cell_type": "code",
   "execution_count": 3,
   "id": "4f1f0ea3",
   "metadata": {},
   "outputs": [
    {
     "name": "stdout",
     "output_type": "stream",
     "text": [
      "8328\n",
      "1672\n",
      "Probability of a sunny day:0.8328\n",
      "Probability of a cloudy day:0.1672\n"
     ]
    }
   ],
   "source": [
    "clear = result [result == 0] \n",
    "cloudy = result [result == 1] \n",
    "print(len(clear))\n",
    "print(len(cloudy))\n",
    "print(\"Probability of a sunny day:\" + str(len(clear)/N))\n",
    "print(\"Probability of a cloudy day:\" + str(len(cloudy)/N))"
   ]
  },
  {
   "cell_type": "markdown",
   "id": "537a5f62",
   "metadata": {},
   "source": [
    "### Let's do the  *Trace-plot*"
   ]
  },
  {
   "cell_type": "code",
   "execution_count": 4,
   "id": "8214242b",
   "metadata": {},
   "outputs": [
    {
     "data": {
      "text/plain": [
       "<matplotlib.legend.Legend at 0x1678276d790>"
      ]
     },
     "execution_count": 4,
     "metadata": {},
     "output_type": "execute_result"
    },
    {
     "data": {
      "image/png": "[encoded data removed]",
      "text/plain": [
       "<Figure size 432x288 with 1 Axes>"
      ]
     },
     "metadata": {
      "needs_background": "light"
     },
     "output_type": "display_data"
    }
   ],
   "source": [
    "p_clear =np.cumsum(trace_clear)/( np.arange(trace_clear.shape[0])+1 )\n",
    "plt.plot(p_clear, color = 'orange');\n",
    "plt.title(\"Trace-plot\")\n",
    "plt.xlabel(\"Number of days\")\n",
    "plt.ylabel(\"Probability of sunny days\")\n",
    "plt.axvline(x = 1500, color = 'b', label = 'burn in treshold')\n",
    "plt.legend()"
   ]
  },
  {
   "cell_type": "code",
   "execution_count": 5,
   "id": "f0e2a783",
   "metadata": {},
   "outputs": [
    {
     "data": {
      "text/plain": [
       "Text(0.5, 1.0, 'Distribution with all the data')"
      ]
     },
     "execution_count": 5,
     "metadata": {},
     "output_type": "execute_result"
    },
    {
     "data": {
      "image/png": "[encoded data removed]",
      "text/plain": [
       "<Figure size 432x288 with 1 Axes>"
      ]
     },
     "metadata": {
      "needs_background": "light"
     },
     "output_type": "display_data"
    }
   ],
   "source": [
    "plt.hist(p_clear, bins=300, density=True, alpha=0.8, color = 'green');\n",
    "plt.ylabel(\"$p(clear$)\")\n",
    "plt.xlabel(\"Probability of sunny days\")\n",
    "plt.title(\"Distribution with all the data\")"
   ]
  },
  {
   "cell_type": "markdown",
   "id": "c72212b9",
   "metadata": {},
   "source": [
    "We require that our process is stationary but that's not true in the first step, so let's define a **burn-in** phase, whose data are going to be discarded.\n",
    "\n",
    "$$ Data_{Burn-in} = first\\ 1500 \\ data $$"
   ]
  },
  {
   "cell_type": "code",
   "execution_count": 6,
   "id": "09b926bc",
   "metadata": {},
   "outputs": [
    {
     "data": {
      "text/plain": [
       "Text(0.5, 1.0, 'Distribution with all the data')"
      ]
     },
     "execution_count": 6,
     "metadata": {},
     "output_type": "execute_result"
    },
    {
     "data": {
      "image/png": "[encoded data removed]",
      "text/plain": [
       "<Figure size 432x288 with 1 Axes>"
      ]
     },
     "metadata": {
      "needs_background": "light"
     },
     "output_type": "display_data"
    }
   ],
   "source": [
    "plt.hist(p_clear[1500:], bins=300, density=True, alpha=0.8, color = 'green');\n",
    "plt.ylabel(\"$p(clear$)\")\n",
    "plt.xlabel(\"Probability of sunny days\")\n",
    "plt.title(\"Distribution with all the data\")"
   ]
  },
  {
   "cell_type": "code",
   "execution_count": 7,
   "id": "ffecee20",
   "metadata": {},
   "outputs": [
    {
     "name": "stdout",
     "output_type": "stream",
     "text": [
      "0.8349167270213689\n",
      "0.0020337082413925283\n",
      "0.8273149082106113 0.8406934903500164\n"
     ]
    }
   ],
   "source": [
    "print(np.median(p_clear[1500:]))\n",
    "print(astroML.stats.sigmaG(p_clear[1500:]))\n",
    "print(min(p_clear[1500:]),max(p_clear[1500:]))"
   ]
  },
  {
   "cell_type": "markdown",
   "id": "57d00b30",
   "metadata": {},
   "source": [
    "# Farlo con economia"
   ]
  },
  {
   "cell_type": "code",
   "execution_count": null,
   "id": "d8a75017",
   "metadata": {},
   "outputs": [],
   "source": []
  }
 ],
 "metadata": {
  "kernelspec": {
   "display_name": "Python 3 (ipykernel)",
   "language": "python",
   "name": "python3"
  },
  "language_info": {
   "codemirror_mode": {
    "name": "ipython",
    "version": 3
   },
   "file_extension": ".py",
   "mimetype": "text/x-python",
   "name": "python",
   "nbconvert_exporter": "python",
   "pygments_lexer": "ipython3",
   "version": "3.9.12"
  }
 },
 "nbformat": 4,
 "nbformat_minor": 5
}
