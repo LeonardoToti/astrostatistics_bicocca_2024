{
 "cells": [
  {
   "cell_type": "markdown",
   "id": "d6d59f9c",
   "metadata": {},
   "source": [
    "# Cloudy or Sunny"
   ]
  },
  {
   "cell_type": "markdown",
   "id": "5ae48d78",
   "metadata": {},
   "source": [
    "Planning astronomical observation we want to predict the  next day sky condition based on today weather."
   ]
  },
  {
   "cell_type": "code",
   "execution_count": 1,
   "id": "c129b660",
   "metadata": {},
   "outputs": [],
   "source": [
    "import numpy as np\n",
    "from scipy import stats, interpolate\n",
    "from matplotlib import pyplot as plt\n",
    "from tqdm import tqdm\n",
    "from sklearn.mixture import GaussianMixture\n",
    "from scipy.stats import uniform\n",
    "import astroML.stats"
   ]
  },
  {
   "cell_type": "markdown",
   "id": "f4aa2658",
   "metadata": {},
   "source": [
    "From past history, we know that:\n",
    "\n",
    "$$p({\\rm clear \\; tomorrow} \\, |\\,  {\\rm cloudy \\; today}) = 0.5,$$\n",
    "\n",
    "which means that\n",
    "\n",
    "$$p({\\rm cloudy \\; tomorrow} \\, |\\, {\\rm cloudy \\; today}) = 0.5.$$\n",
    "\n",
    "We also have\n",
    "\n",
    "$$p({\\rm cloudy \\; tomorrow} \\, |\\, {\\rm clear \\; today}) = 0.1,$$\n",
    "\n",
    "which means that\n",
    "\n",
    "$$p({\\rm clear \\; tomorrow} \\, |\\, {\\rm clear \\; today}) = 0.9.$$\n",
    "\n",
    "To accomplish our goal we construct a **Markov chain**:\n",
    "\n",
    "Here is an illustration of this process from an article in [towarddatascience.com](https://towardsdatascience.com/introduction-to-markov-chains-50da3645a50d).\n",
    "\n",
    "![image.png](https://miro.medium.com/max/416/1*frksGjINf5oTjx7WL81U3w.png)\n"
   ]
  },
  {
   "cell_type": "markdown",
   "id": "5fee7c50",
   "metadata": {},
   "source": [
    "Let's start with a clear day, clear = 0, cloudy = 1"
   ]
  },
  {
   "cell_type": "code",
   "execution_count": 2,
   "id": "cd9e63fc",
   "metadata": {
    "scrolled": true
   },
   "outputs": [],
   "source": [
    "N = 10000 #number of days \n",
    "result = []\n",
    "trace_clear = []\n",
    "\n",
    "def Next_day (x):\n",
    "    for i in range(N): \n",
    "        if (x == 0):\n",
    "            result.append(np.random.choice(np.array([0, 1]), p=np.array([0.9, 0.1]))) # p = probbilities assosiacted to the value 0 and 1\n",
    "        else:\n",
    "            result.append(np.random.choice(np.array([0, 1]), p=np.array([0.5, 0.5])))\n",
    "        # we are doing this for a more general case where we don't have just 0 and 1 associated do cloudy and clear, here the opposite\n",
    "        if (result[i] == 0):\n",
    "            trace_clear.append(1)\n",
    "        else: \n",
    "            trace_clear.append(0)\n",
    "        x = result[-1]\n",
    "    return  \n",
    "\n",
    "\n",
    "Next_day(0)\n",
    "\n",
    "result = np.array(result) \n",
    "trace_clear = np.array(trace_clear)"
   ]
  },
  {
   "cell_type": "code",
   "execution_count": 3,
   "id": "4f1f0ea3",
   "metadata": {},
   "outputs": [
    {
     "name": "stdout",
     "output_type": "stream",
     "text": [
      "8262\n",
      "1738\n",
      "Probability of a sunny day:0.8262\n",
      "Probability of a cloudy day:0.1738\n"
     ]
    }
   ],
   "source": [
    "clear = result [result == 0] \n",
    "cloudy = result [result == 1] \n",
    "print(len(clear))\n",
    "print(len(cloudy))\n",
    "print(\"Probability of a sunny day:\" + str(len(clear)/N))\n",
    "print(\"Probability of a cloudy day:\" + str(len(cloudy)/N))"
   ]
  },
  {
   "cell_type": "markdown",
   "id": "537a5f62",
   "metadata": {},
   "source": [
    "### Let's do the  *Trace-plot*"
   ]
  },
  {
   "cell_type": "code",
   "execution_count": 4,
   "id": "8214242b",
   "metadata": {},
   "outputs": [
    {
     "data": {
      "text/plain": [
       "<matplotlib.legend.Legend at 0x1ffff172130>"
      ]
     },
     "execution_count": 4,
     "metadata": {},
     "output_type": "execute_result"
    },
    {
     "data": {
      "image/png": "[encoded data removed]",
      "text/plain": [
       "<Figure size 432x288 with 1 Axes>"
      ]
     },
     "metadata": {
      "needs_background": "light"
     },
     "output_type": "display_data"
    }
   ],
   "source": [
    "p_clear =np.cumsum(trace_clear)/(np.arange(trace_clear.shape[0])+1)\n",
    "plt.plot(p_clear, color = 'orange');\n",
    "plt.title(\"Trace-plot\")\n",
    "plt.xlabel(\"Number of days\")\n",
    "plt.ylabel(\"Probability of sunny days\")\n",
    "plt.axvline(x = 1500, color = 'b', label = 'burn in treshold')\n",
    "plt.legend()"
   ]
  },
  {
   "cell_type": "code",
   "execution_count": 5,
   "id": "f0e2a783",
   "metadata": {},
   "outputs": [
    {
     "data": {
      "text/plain": [
       "Text(0.5, 1.0, 'Distribution with all the data')"
      ]
     },
     "execution_count": 5,
     "metadata": {},
     "output_type": "execute_result"
    },
    {
     "data": {
      "image/png": "[encoded data removed]",
      "text/plain": [
       "<Figure size 432x288 with 1 Axes>"
      ]
     },
     "metadata": {
      "needs_background": "light"
     },
     "output_type": "display_data"
    }
   ],
   "source": [
    "plt.hist(p_clear, bins=300, density=True, alpha=0.8, color = 'green');\n",
    "plt.ylabel(\"$p(clear$)\")\n",
    "plt.xlabel(\"Probability of sunny days\")\n",
    "plt.title(\"Distribution with all the data\")"
   ]
  },
  {
   "cell_type": "markdown",
   "id": "c72212b9",
   "metadata": {},
   "source": [
    "We require that our process is stationary but that's not true in the first step, so let's define a **burn-in** phase, whose data are going to be discarded.\n",
    "\n",
    "$$ Data_{Burn-in} = first\\ 1500 \\ data $$"
   ]
  },
  {
   "cell_type": "code",
   "execution_count": 6,
   "id": "09b926bc",
   "metadata": {},
   "outputs": [
    {
     "data": {
      "text/plain": [
       "Text(0.5, 1.0, 'Distribution with all the data')"
      ]
     },
     "execution_count": 6,
     "metadata": {},
     "output_type": "execute_result"
    },
    {
     "data": {
      "image/png": "[encoded data removed]",
      "text/plain": [
       "<Figure size 432x288 with 1 Axes>"
      ]
     },
     "metadata": {
      "needs_background": "light"
     },
     "output_type": "display_data"
    }
   ],
   "source": [
    "from sklearn.neighbors import KernelDensity\n",
    "xgrid = np.linspace(0.815,0.838,1000)  \n",
    "\n",
    "def kde_sklearn(data, bandwidth,  kernel):\n",
    "    kde_skl = KernelDensity(bandwidth = bandwidth, kernel=kernel)\n",
    "    kde_skl.fit(data[:, np.newaxis])\n",
    "    log_pdf = kde_skl.score_samples(xgrid[:, np.newaxis]) # sklearn returns log(density)\n",
    "\n",
    "    return np.exp(log_pdf)\n",
    "\n",
    "PDF = kde_sklearn(p_clear[1500:],bandwidth=0.0004, kernel=\"gaussian\") \n",
    "plt.plot(xgrid,PDF, color = 'orange', lw = 2) \n",
    "plt.hist(p_clear[1500:], bins=100, density=True, alpha=0.8, color = 'green');\n",
    "plt.ylabel(\"$p(clear$)\")\n",
    "plt.xlabel(\"Probability of sunny days\")\n",
    "plt.title(\"Distribution with all the data\")"
   ]
  },
  {
   "cell_type": "code",
   "execution_count": 7,
   "id": "ffecee20",
   "metadata": {},
   "outputs": [
    {
     "name": "stdout",
     "output_type": "stream",
     "text": [
      "0.8296117826920701\n",
      "0.0024591833651894097\n",
      "0.8233430155796144 0.8348519362186788\n"
     ]
    }
   ],
   "source": [
    "print(np.median(p_clear[1500:]))\n",
    "print(astroML.stats.sigmaG(p_clear[1500:]))\n",
    "print(min(p_clear[1500:]),max(p_clear[1500:]))"
   ]
  },
  {
   "cell_type": "markdown",
   "id": "57d00b30",
   "metadata": {},
   "source": [
    "# Stock Market"
   ]
  },
  {
   "cell_type": "markdown",
   "id": "2de7d934",
   "metadata": {},
   "source": [
    "The stock market has phases of growing prices (bull), dreasing prices (bear) and recession. An example of MarKov Chain model:\n",
    "\n",
    "![](https://upload.wikimedia.org/wikipedia/commons/thumb/9/95/Finance_Markov_chain_example_state_space.svg/400px-Finance_Markov_chain_example_state_space.svg.png)\n"
   ]
  },
  {
   "cell_type": "markdown",
   "id": "a8722697",
   "metadata": {},
   "source": [
    "0 = Bull, 1 = Bear, 1 = Stagnant.\n",
    "\n",
    "Let's start in the condition of a Bull Market"
   ]
  },
  {
   "cell_type": "code",
   "execution_count": 8,
   "id": "f9b94257",
   "metadata": {},
   "outputs": [],
   "source": [
    "N = 10000 #number of phase\n",
    "result_market = []\n",
    "trace_bull = []\n",
    "\n",
    "def Next_phase (x):\n",
    "    for i in range(N): \n",
    "        if (x == 0):\n",
    "            result_market.append(np.random.choice(np.array([0, 1, 2]), p=np.array([0.9, 0.075, 0.025]))) \n",
    "        elif (x == 1):\n",
    "            result_market.append(np.random.choice(np.array([0, 1, 2]), p=np.array([0.15, 0.8, 0.05]))) \n",
    "        else: \n",
    "            result_market.append(np.random.choice(np.array([0, 1, 2]), p=np.array([0.25, 0.25, 0.5]))) \n",
    "        \n",
    "        if(result_market[i] == 0):\n",
    "            trace_bull.append(1)\n",
    "        else: \n",
    "            trace_bull.append(0)\n",
    "        x = result_market[-1]\n",
    "    return  \n",
    "\n",
    "Next_phase(0)\n",
    "\n",
    "\n",
    "result_market = np.array(result_market) \n",
    "trace_bull = np.array(trace_bull)"
   ]
  },
  {
   "cell_type": "code",
   "execution_count": 9,
   "id": "418e7259",
   "metadata": {},
   "outputs": [
    {
     "name": "stdout",
     "output_type": "stream",
     "text": [
      "8262\n",
      "Probability of a bull market:0.8262\n"
     ]
    }
   ],
   "source": [
    "bull = result [result == 0] \n",
    "print(len(bull))\n",
    "print(\"Probability of a bull market:\" + str(len(bull)/N))"
   ]
  },
  {
   "cell_type": "code",
   "execution_count": 10,
   "id": "33e53f6d",
   "metadata": {},
   "outputs": [
    {
     "data": {
      "text/plain": [
       "<matplotlib.legend.Legend at 0x1ffff622fa0>"
      ]
     },
     "execution_count": 10,
     "metadata": {},
     "output_type": "execute_result"
    },
    {
     "data": {
      "image/png": "[encoded data removed]",
      "text/plain": [
       "<Figure size 432x288 with 1 Axes>"
      ]
     },
     "metadata": {
      "needs_background": "light"
     },
     "output_type": "display_data"
    }
   ],
   "source": [
    "p_bull =np.cumsum(trace_bull)/(np.arange(trace_bull.shape[0])+1)\n",
    "plt.plot(p_bull, color = 'orange');\n",
    "plt.title(\"Trace-plot\")\n",
    "plt.xlabel(\"Number of phases\")\n",
    "plt.ylabel(\"Probability of a bull market\")\n",
    "plt.axvline(x = 1500, color = 'b', label = 'burn in treshold')\n",
    "plt.legend()"
   ]
  },
  {
   "cell_type": "code",
   "execution_count": 17,
   "id": "de25bb3a",
   "metadata": {},
   "outputs": [
    {
     "data": {
      "text/plain": [
       "Text(0.5, 1.0, 'Distribution with all the data')"
      ]
     },
     "execution_count": 17,
     "metadata": {},
     "output_type": "execute_result"
    },
    {
     "data": {
      "image/png": "[encoded data removed]",
      "text/plain": [
       "<Figure size 432x288 with 1 Axes>"
      ]
     },
     "metadata": {
      "needs_background": "light"
     },
     "output_type": "display_data"
    }
   ],
   "source": [
    "plt.hist(p_bull, bins=300, density=True, alpha=0.8, color = 'green');\n",
    "plt.ylabel(\"$p(bull$)\")\n",
    "plt.ylabel(\"Probability of a bull market\")\n",
    "plt.title(\"Distribution with all the data\")"
   ]
  },
  {
   "cell_type": "code",
   "execution_count": 18,
   "id": "d15a476f",
   "metadata": {},
   "outputs": [
    {
     "data": {
      "text/plain": [
       "Text(0.5, 1.0, 'Distribution with all the data')"
      ]
     },
     "execution_count": 18,
     "metadata": {},
     "output_type": "execute_result"
    },
    {
     "data": {
      "image/png": "[encoded data removed]",
      "text/plain": [
       "<Figure size 432x288 with 1 Axes>"
      ]
     },
     "metadata": {
      "needs_background": "light"
     },
     "output_type": "display_data"
    }
   ],
   "source": [
    "xgrid = np.linspace(0.5,0.65,1000)  \n",
    "\n",
    "PDF = kde_sklearn(p_bull[1500:],bandwidth=0.0009, kernel=\"gaussian\") \n",
    "plt.plot(xgrid,PDF, color = 'orange', lw = 2) \n",
    "plt.hist(p_bull[1500:], bins=100, density=True, alpha=0.8, color = 'green');\n",
    "plt.ylabel(\"$p(bull$)\")\n",
    "plt.ylabel(\"Probability of a bull market\")\n",
    "plt.title(\"Distribution with all the data\")"
   ]
  },
  {
   "cell_type": "code",
   "execution_count": null,
   "id": "81996f55",
   "metadata": {},
   "outputs": [],
   "source": []
  },
  {
   "cell_type": "code",
   "execution_count": null,
   "id": "fba85ce6",
   "metadata": {},
   "outputs": [],
   "source": []
  }
 ],
 "metadata": {
  "kernelspec": {
   "display_name": "Python 3 (ipykernel)",
   "language": "python",
   "name": "python3"
  },
  "language_info": {
   "codemirror_mode": {
    "name": "ipython",
    "version": 3
   },
   "file_extension": ".py",
   "mimetype": "text/x-python",
   "name": "python",
   "nbconvert_exporter": "python",
   "pygments_lexer": "ipython3",
   "version": "3.9.12"
  }
 },
 "nbformat": 4,
 "nbformat_minor": 5
}
