{
 "cells": [
  {
   "cell_type": "code",
   "execution_count": 1,
   "id": "4720b527",
   "metadata": {},
   "outputs": [],
   "source": [
    "# 1 = car, 0 = goat\n",
    "A = 1\n",
    "B = 0\n",
    "C = 0"
   ]
  },
  {
   "cell_type": "code",
   "execution_count": 2,
   "id": "7d2aa2c7",
   "metadata": {},
   "outputs": [
    {
     "name": "stdout",
     "output_type": "stream",
     "text": [
      "0\n",
      "[1. 0. 0.]\n"
     ]
    }
   ],
   "source": [
    "import random\n",
    "import numpy as np\n",
    "Doors=np.zeros(3)\n",
    "#Doors = [0,0,0]\n",
    "index = random.choice([0,1,2])\n",
    "print(index)\n",
    "Doors[index] = 1\n",
    "    \n",
    "print (Doors)\n",
    "#del Doors[0] #per eliminare la porta scelta\n",
    "#print (Doors)"
   ]
  },
  {
   "cell_type": "code",
   "execution_count": 3,
   "id": "f22eeed9",
   "metadata": {},
   "outputs": [
    {
     "name": "stdout",
     "output_type": "stream",
     "text": [
      "0\n",
      "win\n"
     ]
    }
   ],
   "source": [
    "#giocatore uno: conservative\n",
    "Choice_1 = random.choice([0,1,2])\n",
    "print(Choice_1)\n",
    "#open a door with a goat\n",
    "if Choice_1 == index:\n",
    "    print(\"win\")\n",
    "else:\n",
    "    print(\"goat\")"
   ]
  },
  {
   "cell_type": "code",
   "execution_count": 4,
   "id": "cd031f66",
   "metadata": {},
   "outputs": [
    {
     "name": "stdout",
     "output_type": "stream",
     "text": [
      "2\n",
      "win\n"
     ]
    }
   ],
   "source": [
    "#giocatore due: switcher !!!funziona solo con tre porte\n",
    "Choice_2_1 = random.choice([0,1,2])\n",
    "print(Choice_2_1)\n",
    "if Choice_2_1 == index:\n",
    "    print(\"goat\") \n",
    "else:\n",
    "    print(\"win\")"
   ]
  },
  {
   "cell_type": "code",
   "execution_count": 5,
   "id": "163ddb32",
   "metadata": {},
   "outputs": [
    {
     "name": "stdout",
     "output_type": "stream",
     "text": [
      "1\n",
      "0\n",
      "win\n"
     ]
    }
   ],
   "source": [
    "#giocatore tre: newcomer\n",
    "index_fail = 0\n",
    "for i in range(3):\n",
    "    if Doors[i] == 0:\n",
    "        index_fail = i\n",
    "        break;\n",
    "print(index_fail)\n",
    "Choice_3 = random.choice([index, index_fail ])\n",
    "print(Choice_3)\n",
    "if Choice_3 == index:\n",
    "    print(\"win\")\n",
    "else:\n",
    "    print(\"goat\")"
   ]
  },
  {
   "cell_type": "code",
   "execution_count": 6,
   "id": "e1fb62a0",
   "metadata": {},
   "outputs": [],
   "source": [
    "#function that simulate the game for the conservative\n",
    "def first_player(num_doors):\n",
    "    index = random.randrange(0, num_doors)\n",
    "    Choice_1 = random.randrange(0, num_doors)\n",
    "    if Choice_1 == index:\n",
    "        return 1\n",
    "    else: \n",
    "        return 0"
   ]
  },
  {
   "cell_type": "code",
   "execution_count": 7,
   "id": "d3709e6a",
   "metadata": {},
   "outputs": [],
   "source": [
    "#functiona that simulate the game for the switcher\n",
    "def second_player(num_doors):\n",
    "    index = random.randrange(0, num_doors)\n",
    "    Choice_2 = random.randrange(0, num_doors)\n",
    "    if Choice_2 == index:\n",
    "        return 0\n",
    "    else: \n",
    "        return 1"
   ]
  },
  {
   "cell_type": "code",
   "execution_count": 8,
   "id": "783ce988",
   "metadata": {},
   "outputs": [],
   "source": [
    "#functiona that simulate the game for the newcomer\n",
    "def third_player(num_doors):\n",
    "    #index_fail = 0\n",
    "    Doors=np.zeros(num_doors)\n",
    "    index = random.randrange(0, num_doors)\n",
    "    Doors[index] = 1\n",
    "    for i in range(num_doors):\n",
    "        if Doors[i] == 0:\n",
    "            index_fail = i\n",
    "            break;\n",
    "    Choice_3 = random.choice([index,index_fail])\n",
    "    if Choice_3 == index:\n",
    "        return 1\n",
    "    else: \n",
    "        return 0"
   ]
  },
  {
   "cell_type": "code",
   "execution_count": 9,
   "id": "c259ba06",
   "metadata": {},
   "outputs": [
    {
     "name": "stdout",
     "output_type": "stream",
     "text": [
      "Probability of the conservative player 0.333\n",
      "Probability of the switcher player 0.668\n",
      "Probability of the newcomer player 0.5\n"
     ]
    }
   ],
   "source": [
    "#Tante simulazioni: 0 sconfitta 1 vittoria\n",
    "n = 1000000 #number of game\n",
    "\n",
    "#vettore risultati, dopo inserisci matrice\n",
    "results1=np.zeros(n)\n",
    "results2=np.zeros(n)\n",
    "results3=np.zeros(n)\n",
    "\n",
    "for h in range (n):\n",
    "    results1[h] = first_player(3) #sto facendo tre porte\n",
    "    results2[h] = second_player(3)\n",
    "    results3[h] = third_player(3)\n",
    "\n",
    "print(\"Probability of the conservative player \" + str(round((np.sum(results1))/n,3)))\n",
    "print(\"Probability of the switcher player \" + str(round((np.sum(results2))/n,3)))\n",
    "print(\"Probability of the newcomer player \" + str(round((np.sum(results3))/n,3)))"
   ]
  },
  {
   "cell_type": "code",
   "execution_count": 10,
   "id": "24bc7632",
   "metadata": {
    "scrolled": true
   },
   "outputs": [
    {
     "name": "stdout",
     "output_type": "stream",
     "text": [
      "Probability of the conservative player 0.0098\n",
      "Probability of the conservative player 0.9899\n",
      "Probability of the conservative player 0.5008\n"
     ]
    }
   ],
   "source": [
    "#Now I want to implement 100 doors and 98 then will be opened\n",
    "#The switcher is easy, just to check the doors he chose \n",
    "\n",
    "n = 1000000 #number of game\n",
    "\n",
    "Resu1=np.zeros(n)\n",
    "Resu2=np.zeros(n)\n",
    "Resu3=np.zeros(n)\n",
    "\n",
    "for h in range (n):\n",
    "    Resu1[h] = first_player(100)\n",
    "    Resu2[h] = second_player(100)\n",
    "    Resu3[h] = third_player(100)\n",
    "    \n",
    "print(\"Probability of the conservative player \" + str(round((np.sum(Resu1))/n,4)))\n",
    "print(\"Probability of the conservative player \" + str(round((np.sum(Resu2))/n,4)))\n",
    "print(\"Probability of the conservative player \" + str(round((np.sum(Resu3))/n,4)))"
   ]
  },
  {
   "cell_type": "code",
   "execution_count": 12,
   "id": "654f95db",
   "metadata": {},
   "outputs": [
    {
     "data": {
      "application/vnd.jupyter.widget-view+json": {
       "model_id": "5d49352446cf4e18be7ed3b59dfd10c5",
       "version_major": 2,
       "version_minor": 0
      },
      "text/plain": [
       "  0%|          | 0/98 [00:00<?, ?it/s]"
      ]
     },
     "metadata": {},
     "output_type": "display_data"
    },
    {
     "name": "stdout",
     "output_type": "stream",
     "text": [
      "[0.33372  0.249892 0.200246 0.16657  0.143167 0.124838 0.111301 0.100277\n",
      " 0.090732 0.083348 0.077224 0.071186 0.066899 0.062647 0.058653 0.055466\n",
      " 0.052594 0.05026  0.047669 0.04495  0.04378  0.041419 0.039974 0.038097\n",
      " 0.037193 0.035681 0.034435 0.033616 0.032486 0.031159 0.03063  0.029619\n",
      " 0.028538 0.027798 0.027168 0.026121 0.025518 0.024935 0.024534 0.024022\n",
      " 0.023157 0.022768 0.022138 0.021617 0.021391 0.020705 0.020266 0.019931\n",
      " 0.019628 0.019484 0.018755 0.018627 0.018237 0.01757  0.017689 0.01708\n",
      " 0.0168   0.016643 0.016363 0.016206 0.015821 0.015597 0.015351 0.01514\n",
      " 0.014777 0.014826 0.014297 0.014306 0.013892 0.013878 0.01367  0.013475\n",
      " 0.013239 0.012883 0.012963 0.012951 0.012746 0.012555 0.012472 0.012358\n",
      " 0.012088 0.011919 0.011574 0.011693 0.011564 0.011209 0.011352 0.011198\n",
      " 0.01112  0.010704 0.010792 0.010621 0.010445 0.010563 0.010421 0.010068\n",
      " 0.009945 0.009954]\n"
     ]
    },
    {
     "data": {
      "image/png": "[encoded data removed]",
      "text/plain": [
       "<Figure size 432x288 with 1 Axes>"
      ]
     },
     "metadata": {
      "needs_background": "light"
     },
     "output_type": "display_data"
    }
   ],
   "source": [
    "import matplotlib.pyplot as plt\n",
    "from tqdm.notebook import tqdm\n",
    "from matplotlib import colors\n",
    "\n",
    "n = 100000 #number of game\n",
    "N = 100 #maximum number of doors\n",
    "\n",
    "R1=np.zeros(n)\n",
    "\n",
    "P1 = np.zeros(N-2) #vettore che contiene le probabilità\n",
    "j=3\n",
    "for u in tqdm(range (N-2)):\n",
    "    for h in range (n):\n",
    "        R1[h] = first_player(j)\n",
    "    #print (R1)\n",
    "    #print(np.sum(R1))\n",
    "    j = j + 1\n",
    "    P1[u] = (np.sum(R1))/n\n",
    "print(P1)\n",
    "plt.plot(np.arange(3,N+1), P1)\n",
    "plt.show()"
   ]
  },
  {
   "cell_type": "code",
   "execution_count": 13,
   "id": "c932ea54",
   "metadata": {
    "scrolled": false
   },
   "outputs": [
    {
     "data": {
      "application/vnd.jupyter.widget-view+json": {
       "model_id": "681d2ffba3b2476e88315b4abc68ce8d",
       "version_major": 2,
       "version_minor": 0
      },
      "text/plain": [
       "  0%|          | 0/98 [00:00<?, ?it/s]"
      ]
     },
     "metadata": {},
     "output_type": "display_data"
    },
    {
     "name": "stdout",
     "output_type": "stream",
     "text": [
      "[[0.33372  0.249892 0.200246 ... 0.010068 0.009945 0.009954]\n",
      " [0.       0.249892 0.200246 ... 0.010068 0.009945 0.009954]\n",
      " [0.       0.       0.200246 ... 0.010068 0.009945 0.009954]\n",
      " ...\n",
      " [0.       0.       0.       ... 0.010068 0.009945 0.009954]\n",
      " [0.       0.       0.       ... 0.       0.009945 0.009954]\n",
      " [0.       0.       0.       ... 0.       0.       0.009954]]\n"
     ]
    }
   ],
   "source": [
    "#istogramma per il conservatore\n",
    "#non cambia nulla l'M porte che vengono aperte dato che lui non cambia mai la sua scelta\n",
    "M1=np.zeros((98,98))\n",
    "l=0\n",
    "k=0\n",
    "for l in tqdm(range(98)):\n",
    "    for u in range (N-2):\n",
    "        if(u>l-1):\n",
    "            M1[l][u]=P1[u]\n",
    "\n",
    "print(M1)"
   ]
  },
  {
   "cell_type": "code",
   "execution_count": 14,
   "id": "421afda1",
   "metadata": {
    "scrolled": true
   },
   "outputs": [
    {
     "data": {
      "text/plain": [
       "<matplotlib.colorbar.Colorbar at 0x1cc34a97730>"
      ]
     },
     "execution_count": 14,
     "metadata": {},
     "output_type": "execute_result"
    },
    {
     "data": {
      "image/png": "[encoded data removed]",
      "text/plain": [
       "<Figure size 2880x360 with 2 Axes>"
      ]
     },
     "metadata": {
      "needs_background": "light"
     },
     "output_type": "display_data"
    }
   ],
   "source": [
    "extent=[3,N,N-2,1]\n",
    "fig=plt.figure(1, figsize=(40,5), tight_layout=True)\n",
    "plt.imshow(M1, extent=extent, cmap='inferno')\n",
    "plt.xlabel('N', fontsize=16)\n",
    "plt.ylabel('M', fontsize=16)\n",
    "plt.colorbar()"
   ]
  },
  {
   "cell_type": "code",
   "execution_count": 19,
   "id": "9880bbc4",
   "metadata": {},
   "outputs": [],
   "source": [
    "def Second(num_doors, n_open):\n",
    "    index = random.randrange(0, num_doors)\n",
    "    Choice_2 = random.randrange(0, num_doors)\n",
    "    if Choice_2 == index:\n",
    "        return 0\n",
    "    else: \n",
    "        index_2 = random.randrange(0, (num_doors-n_open-1))\n",
    "        Choice_2_2 = random.randrange(0, (num_doors-n_open-1)) #the player is making another choice\n",
    "        if Choice_2_2 == index_2:\n",
    "            return 1\n",
    "        else:\n",
    "            return 0\n",
    "        "
   ]
  },
  {
   "cell_type": "code",
   "execution_count": 55,
   "id": "c961e5fc",
   "metadata": {
    "scrolled": true
   },
   "outputs": [
    {
     "data": {
      "application/vnd.jupyter.widget-view+json": {
       "model_id": "f277446042d949c38286cea493ef0f59",
       "version_major": 2,
       "version_minor": 0
      },
      "text/plain": [
       "  0%|          | 0/98 [00:00<?, ?it/s]"
      ]
     },
     "metadata": {},
     "output_type": "display_data"
    }
   ],
   "source": [
    "#switcher al variare\n",
    "n = 10000 #number of game\n",
    "N = 100 #maximum number of doors\n",
    "M = N - 2 #maximum numbers of doors that get opened\n",
    "R2=np.zeros(n)\n",
    "P2 = np.zeros(N-2) #vettore che contiene le probabilità\n",
    "M2=np.zeros((N-2,N-2))\n",
    "j=3\n",
    "s=1\n",
    "\n",
    "for e in tqdm(range(N-2)):\n",
    "\n",
    "    for u in range (N-2):\n",
    "        for h in range (n):\n",
    "            R2[h] = Second(j, s)\n",
    "        #print (R1)\n",
    "        #print(np.sum(R1))\n",
    "        j = j + 1\n",
    "        if(u>s-2): #to avoid case such 6 doors and 7 opened\n",
    "            M2[e][u] = (np.sum(R2))/n\n",
    "    #print(M2[e])\n",
    "    s = s + 1\n",
    "    j= s+2\n",
    "    \n",
    "        \n",
    "#print(M2)\n"
   ]
  },
  {
   "cell_type": "code",
   "execution_count": 56,
   "id": "bfa2b0c0",
   "metadata": {},
   "outputs": [
    {
     "data": {
      "text/plain": [
       "<matplotlib.colorbar.Colorbar at 0x1cc378d7b50>"
      ]
     },
     "execution_count": 56,
     "metadata": {},
     "output_type": "execute_result"
    },
    {
     "data": {
      "image/png": "[encoded data removed]",
      "text/plain": [
       "<Figure size 2880x360 with 2 Axes>"
      ]
     },
     "metadata": {
      "needs_background": "light"
     },
     "output_type": "display_data"
    }
   ],
   "source": [
    "extent=[3,N,N-2,1]\n",
    "fig=plt.figure(1, figsize=(40,5), tight_layout=True)\n",
    "plt.imshow(M2, extent=extent, cmap='inferno')\n",
    "plt.xlabel('N', fontsize=16)\n",
    "plt.ylabel('M', fontsize=16)\n",
    "plt.colorbar()"
   ]
  },
  {
   "cell_type": "code",
   "execution_count": null,
   "id": "82dcf053",
   "metadata": {},
   "outputs": [],
   "source": []
  }
 ],
 "metadata": {
  "kernelspec": {
   "display_name": "Python 3 (ipykernel)",
   "language": "python",
   "name": "python3"
  },
  "language_info": {
   "codemirror_mode": {
    "name": "ipython",
    "version": 3
   },
   "file_extension": ".py",
   "mimetype": "text/x-python",
   "name": "python",
   "nbconvert_exporter": "python",
   "pygments_lexer": "ipython3",
   "version": "3.9.12"
  }
 },
 "nbformat": 4,
 "nbformat_minor": 5
}
